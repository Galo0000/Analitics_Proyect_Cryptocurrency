{
 "cells": [
  {
   "cell_type": "code",
   "execution_count": 2,
   "metadata": {},
   "outputs": [],
   "source": [
    "# lista de import de librerias que seran utilizadas\n",
    "import seaborn as sns\n",
    "import matplotlib.pyplot as plt\n",
    "import pandas as pd\n",
    "from IPython.display import display\n",
    "import numpy as np"
   ]
  },
  {
   "cell_type": "code",
   "execution_count": 37,
   "metadata": {},
   "outputs": [
    {
     "data": {
      "text/html": [
       "<div>\n",
       "<style scoped>\n",
       "    .dataframe tbody tr th:only-of-type {\n",
       "        vertical-align: middle;\n",
       "    }\n",
       "\n",
       "    .dataframe tbody tr th {\n",
       "        vertical-align: top;\n",
       "    }\n",
       "\n",
       "    .dataframe thead th {\n",
       "        text-align: right;\n",
       "    }\n",
       "</style>\n",
       "<table border=\"1\" class=\"dataframe\">\n",
       "  <thead>\n",
       "    <tr style=\"text-align: right;\">\n",
       "      <th></th>\n",
       "      <th>Price_usd</th>\n",
       "      <th>Market_cap</th>\n",
       "      <th>Volume</th>\n",
       "      <th>Date</th>\n",
       "    </tr>\n",
       "  </thead>\n",
       "  <tbody>\n",
       "    <tr>\n",
       "      <th>67</th>\n",
       "      <td>29217</td>\n",
       "      <td>565714356650</td>\n",
       "      <td>9711415138</td>\n",
       "      <td>2023-04-30 00:00:00</td>\n",
       "    </tr>\n",
       "    <tr>\n",
       "      <th>68</th>\n",
       "      <td>27713</td>\n",
       "      <td>537414074116</td>\n",
       "      <td>12766436369</td>\n",
       "      <td>2023-05-31 00:00:00</td>\n",
       "    </tr>\n",
       "    <tr>\n",
       "      <th>69</th>\n",
       "      <td>30466</td>\n",
       "      <td>591688337868</td>\n",
       "      <td>12545425127</td>\n",
       "      <td>2023-06-30 00:00:00</td>\n",
       "    </tr>\n",
       "    <tr>\n",
       "      <th>70</th>\n",
       "      <td>29277</td>\n",
       "      <td>569135711632</td>\n",
       "      <td>7872881636</td>\n",
       "      <td>2023-07-31 00:00:00</td>\n",
       "    </tr>\n",
       "    <tr>\n",
       "      <th>71</th>\n",
       "      <td>25864</td>\n",
       "      <td>503499738380</td>\n",
       "      <td>10154289679</td>\n",
       "      <td>2023-08-22 17:41:15</td>\n",
       "    </tr>\n",
       "  </tbody>\n",
       "</table>\n",
       "</div>"
      ],
      "text/plain": [
       "    Price_usd    Market_cap       Volume                 Date\n",
       "67      29217  565714356650   9711415138  2023-04-30 00:00:00\n",
       "68      27713  537414074116  12766436369  2023-05-31 00:00:00\n",
       "69      30466  591688337868  12545425127  2023-06-30 00:00:00\n",
       "70      29277  569135711632   7872881636  2023-07-31 00:00:00\n",
       "71      25864  503499738380  10154289679  2023-08-22 17:41:15"
      ]
     },
     "execution_count": 37,
     "metadata": {},
     "output_type": "execute_result"
    }
   ],
   "source": [
    "# Utiliza la funcion read_csv de pandas, para leer el archivo csv y tranformarlo en un dataframe\n",
    "df_BTC = pd.read_csv(\"./Data/Bitcoin.csv\",delimiter=',')\n",
    "df_BTC.tail()"
   ]
  },
  {
   "cell_type": "code",
   "execution_count": 5,
   "metadata": {},
   "outputs": [
    {
     "name": "stdout",
     "output_type": "stream",
     "text": [
      "<class 'pandas.core.frame.DataFrame'>\n",
      "RangeIndex: 72 entries, 0 to 71\n",
      "Data columns (total 4 columns):\n",
      " #   Column      Non-Null Count  Dtype \n",
      "---  ------      --------------  ----- \n",
      " 0   Price_usd   72 non-null     int64 \n",
      " 1   Market_cap  72 non-null     int64 \n",
      " 2   Volume      72 non-null     int64 \n",
      " 3   Date        72 non-null     object\n",
      "dtypes: int64(3), object(1)\n",
      "memory usage: 2.4+ KB\n"
     ]
    }
   ],
   "source": [
    "# Informacion basica de las columnas del dataframe\n",
    "df_BTC.info()"
   ]
  },
  {
   "cell_type": "code",
   "execution_count": 38,
   "metadata": {},
   "outputs": [
    {
     "data": {
      "text/html": [
       "<div>\n",
       "<style scoped>\n",
       "    .dataframe tbody tr th:only-of-type {\n",
       "        vertical-align: middle;\n",
       "    }\n",
       "\n",
       "    .dataframe tbody tr th {\n",
       "        vertical-align: top;\n",
       "    }\n",
       "\n",
       "    .dataframe thead th {\n",
       "        text-align: right;\n",
       "    }\n",
       "</style>\n",
       "<table border=\"1\" class=\"dataframe\">\n",
       "  <thead>\n",
       "    <tr style=\"text-align: right;\">\n",
       "      <th></th>\n",
       "      <th>Price_usd</th>\n",
       "      <th>Market_cap</th>\n",
       "      <th>Volume</th>\n",
       "    </tr>\n",
       "  </thead>\n",
       "  <tbody>\n",
       "    <tr>\n",
       "      <th>count</th>\n",
       "      <td>72.000000</td>\n",
       "      <td>7.200000e+01</td>\n",
       "      <td>7.200000e+01</td>\n",
       "    </tr>\n",
       "    <tr>\n",
       "      <th>mean</th>\n",
       "      <td>20368.625000</td>\n",
       "      <td>3.807349e+11</td>\n",
       "      <td>2.244135e+10</td>\n",
       "    </tr>\n",
       "    <tr>\n",
       "      <th>std</th>\n",
       "      <td>15777.095133</td>\n",
       "      <td>3.013645e+11</td>\n",
       "      <td>1.569520e+10</td>\n",
       "    </tr>\n",
       "    <tr>\n",
       "      <th>min</th>\n",
       "      <td>3457.000000</td>\n",
       "      <td>6.055537e+10</td>\n",
       "      <td>7.202511e+08</td>\n",
       "    </tr>\n",
       "    <tr>\n",
       "      <th>25%</th>\n",
       "      <td>8154.750000</td>\n",
       "      <td>1.438248e+11</td>\n",
       "      <td>7.837457e+09</td>\n",
       "    </tr>\n",
       "    <tr>\n",
       "      <th>50%</th>\n",
       "      <td>12754.500000</td>\n",
       "      <td>2.325526e+11</td>\n",
       "      <td>2.229303e+10</td>\n",
       "    </tr>\n",
       "    <tr>\n",
       "      <th>75%</th>\n",
       "      <td>29574.250000</td>\n",
       "      <td>5.747739e+11</td>\n",
       "      <td>3.193918e+10</td>\n",
       "    </tr>\n",
       "    <tr>\n",
       "      <th>max</th>\n",
       "      <td>61837.000000</td>\n",
       "      <td>1.166424e+12</td>\n",
       "      <td>6.210207e+10</td>\n",
       "    </tr>\n",
       "  </tbody>\n",
       "</table>\n",
       "</div>"
      ],
      "text/plain": [
       "          Price_usd    Market_cap        Volume\n",
       "count     72.000000  7.200000e+01  7.200000e+01\n",
       "mean   20368.625000  3.807349e+11  2.244135e+10\n",
       "std    15777.095133  3.013645e+11  1.569520e+10\n",
       "min     3457.000000  6.055537e+10  7.202511e+08\n",
       "25%     8154.750000  1.438248e+11  7.837457e+09\n",
       "50%    12754.500000  2.325526e+11  2.229303e+10\n",
       "75%    29574.250000  5.747739e+11  3.193918e+10\n",
       "max    61837.000000  1.166424e+12  6.210207e+10"
      ]
     },
     "execution_count": 38,
     "metadata": {},
     "output_type": "execute_result"
    }
   ],
   "source": [
    "df_BTC.describe()"
   ]
  },
  {
   "cell_type": "code",
   "execution_count": 6,
   "metadata": {},
   "outputs": [],
   "source": [
    "# COnvierte la columna Data de tipo de dato texto a tipo de dato datetime\n",
    "df_BTC['Date'] = pd.to_datetime(df_BTC['Date'])"
   ]
  },
  {
   "cell_type": "code",
   "execution_count": 6,
   "metadata": {},
   "outputs": [],
   "source": [
    "# Crea un grafico de cajas ingresando como parametro una columna.\n",
    "def boxplot(data):\n",
    "    plt.figure(figsize=(20, 2))\n",
    "    sns.boxplot(data=data, orient=\"h\")\n",
    "    plt.title(data.name)\n",
    "    plt.xlabel('Precios')\n",
    "    plt.show()"
   ]
  },
  {
   "cell_type": "code",
   "execution_count": 10,
   "metadata": {},
   "outputs": [
    {
     "data": {
      "image/png": "[encoded data removed]",
      "text/plain": [
       "<Figure size 1440x144 with 1 Axes>"
      ]
     },
     "metadata": {
      "needs_background": "light"
     },
     "output_type": "display_data"
    }
   ],
   "source": [
    "boxplot(df_BTC['Price_usd'])"
   ]
  },
  {
   "cell_type": "code",
   "execution_count": 11,
   "metadata": {},
   "outputs": [
    {
     "data": {
      "image/png": "[encoded data removed]",
      "text/plain": [
       "<Figure size 1440x144 with 1 Axes>"
      ]
     },
     "metadata": {
      "needs_background": "light"
     },
     "output_type": "display_data"
    }
   ],
   "source": [
    "boxplot(df_BTC['Volume'])"
   ]
  },
  {
   "cell_type": "code",
   "execution_count": 12,
   "metadata": {},
   "outputs": [
    {
     "data": {
      "image/png": "[encoded data removed]",
      "text/plain": [
       "<Figure size 1440x144 with 1 Axes>"
      ]
     },
     "metadata": {
      "needs_background": "light"
     },
     "output_type": "display_data"
    }
   ],
   "source": [
    "boxplot(df_BTC['Market_cap'])"
   ]
  },
  {
   "cell_type": "code",
   "execution_count": 13,
   "metadata": {},
   "outputs": [
    {
     "data": {
      "image/png": "[encoded data removed]",
      "text/plain": [
       "<Figure size 1080x504 with 1 Axes>"
      ]
     },
     "metadata": {},
     "output_type": "display_data"
    }
   ],
   "source": [
    "# Crea un grafico de lineas con la libreria seaborn de las columnas seleccionadas en el bucle for.\n",
    "sns.set(style='ticks')\n",
    "plt.figure(figsize=(15, 7))\n",
    "for column in df_BTC.columns[:3]:\n",
    "    sns.lineplot(data=df_BTC, x='Date', y=column, label=column)\n",
    "plt.title('Bitcoin')\n",
    "plt.xlabel('Fecha')\n",
    "plt.ylabel('Precios mensual')\n",
    "plt.xticks(rotation=45)\n",
    "plt.legend()\n",
    "plt.tight_layout()\n",
    "plt.show()"
   ]
  },
  {
   "cell_type": "code",
   "execution_count": 14,
   "metadata": {},
   "outputs": [
    {
     "name": "stderr",
     "output_type": "stream",
     "text": [
      "C:\\Users\\Guille\\AppData\\Local\\Temp\\ipykernel_13372\\1999526491.py:3: FutureWarning: The default value of numeric_only in DataFrame.corr is deprecated. In a future version, it will default to False. Select only valid columns or specify the value of numeric_only to silence this warning.\n",
      "  sns.heatmap(df_BTC.corr(), annot=True, cmap=\"coolwarm\", center=0)\n"
     ]
    },
    {
     "data": {
      "image/png": "[encoded data removed]",
      "text/plain": [
       "<Figure size 576x432 with 2 Axes>"
      ]
     },
     "metadata": {},
     "output_type": "display_data"
    }
   ],
   "source": [
    "# Crea un grafico de correlaciones \n",
    "sns.set(style=\"white\")\n",
    "plt.figure(figsize=(8, 6))\n",
    "sns.heatmap(df_BTC.corr(), annot=True, cmap=\"coolwarm\", center=0)\n",
    "plt.title(\"Mapa de Correlaciones\")\n",
    "plt.show()"
   ]
  },
  {
   "cell_type": "code",
   "execution_count": 37,
   "metadata": {},
   "outputs": [],
   "source": [
    "# Crea un grafico \n",
    "def _hist(column):\n",
    "    sns.set(style=\"white\")\n",
    "    plt.figure(figsize=(10, 6))\n",
    "    sns.histplot(data=df_BTC, x=column)\n",
    "    plt.title(\"Histograma de Columna BTC\")\n",
    "    plt.xlabel(\"Precio\")\n",
    "    plt.ylabel(\"Frecuencia\")\n",
    "    plt.show()"
   ]
  },
  {
   "cell_type": "code",
   "execution_count": 28,
   "metadata": {},
   "outputs": [
    {
     "data": {
      "image/png": "[encoded data removed]",
      "text/plain": [
       "<Figure size 720x432 with 1 Axes>"
      ]
     },
     "metadata": {},
     "output_type": "display_data"
    }
   ],
   "source": [
    "_hist('Price_usd')"
   ]
  },
  {
   "cell_type": "code",
   "execution_count": 29,
   "metadata": {},
   "outputs": [
    {
     "data": {
      "image/png": "[encoded data removed]",
      "text/plain": [
       "<Figure size 720x432 with 1 Axes>"
      ]
     },
     "metadata": {},
     "output_type": "display_data"
    }
   ],
   "source": [
    "_hist('Market_cap')"
   ]
  },
  {
   "cell_type": "code",
   "execution_count": 30,
   "metadata": {},
   "outputs": [
    {
     "data": {
      "image/png": "[encoded data removed]",
      "text/plain": [
       "<Figure size 720x432 with 1 Axes>"
      ]
     },
     "metadata": {},
     "output_type": "display_data"
    }
   ],
   "source": [
    "_hist('Volume')"
   ]
  },
  {
   "cell_type": "code",
   "execution_count": 37,
   "metadata": {},
   "outputs": [],
   "source": [
    "def _sactter(ycolumn,xcolumn):\n",
    "    plt.figure(figsize=(10, 6))\n",
    "    plt.scatter(df_BTC[xcolumn], df_BTC[ycolumn])\n",
    "    plt.title(\"Gráfico de Dispersión BTC\")\n",
    "    plt.xlabel(xcolumn)\n",
    "    plt.ylabel(ycolumn)\n",
    "    plt.show()"
   ]
  },
  {
   "cell_type": "code",
   "execution_count": 38,
   "metadata": {},
   "outputs": [
    {
     "data": {
      "image/png": "[encoded data removed]",
      "text/plain": [
       "<Figure size 720x432 with 1 Axes>"
      ]
     },
     "metadata": {},
     "output_type": "display_data"
    }
   ],
   "source": [
    "_sactter('Price_usd','Market_cap')"
   ]
  },
  {
   "cell_type": "code",
   "execution_count": 39,
   "metadata": {},
   "outputs": [
    {
     "data": {
      "image/png": "[encoded data removed]",
      "text/plain": [
       "<Figure size 720x432 with 1 Axes>"
      ]
     },
     "metadata": {},
     "output_type": "display_data"
    }
   ],
   "source": [
    "_sactter('Price_usd','Volume')"
   ]
  },
  {
   "cell_type": "code",
   "execution_count": 20,
   "metadata": {},
   "outputs": [
    {
     "data": {
      "text/plain": [
       "<AxesSubplot: xlabel='Price_usd', ylabel='Volume'>"
      ]
     },
     "execution_count": 20,
     "metadata": {},
     "output_type": "execute_result"
    },
    {
     "data": {
      "image/png": "[encoded data removed]",
      "text/plain": [
       "<Figure size 432x288 with 1 Axes>"
      ]
     },
     "metadata": {},
     "output_type": "display_data"
    }
   ],
   "source": [
    "sns.regplot(x='Price_usd', y= 'Volume', data=df_BTC)"
   ]
  },
  {
   "cell_type": "code",
   "execution_count": 3,
   "metadata": {},
   "outputs": [],
   "source": [
    "df_global = pd.read_csv(\"./Data/global.csv\",delimiter=',')"
   ]
  },
  {
   "cell_type": "code",
   "execution_count": 4,
   "metadata": {},
   "outputs": [
    {
     "data": {
      "text/html": [
       "<div>\n",
       "<style scoped>\n",
       "    .dataframe tbody tr th:only-of-type {\n",
       "        vertical-align: middle;\n",
       "    }\n",
       "\n",
       "    .dataframe tbody tr th {\n",
       "        vertical-align: top;\n",
       "    }\n",
       "\n",
       "    .dataframe thead th {\n",
       "        text-align: right;\n",
       "    }\n",
       "</style>\n",
       "<table border=\"1\" class=\"dataframe\">\n",
       "  <thead>\n",
       "    <tr style=\"text-align: right;\">\n",
       "      <th></th>\n",
       "      <th>Unnamed: 0</th>\n",
       "      <th>active_cryptocurrencies</th>\n",
       "      <th>upcoming_icos</th>\n",
       "      <th>ongoing_icos</th>\n",
       "      <th>ended_icos</th>\n",
       "      <th>markets</th>\n",
       "      <th>total_market_cap</th>\n",
       "      <th>total_volume</th>\n",
       "      <th>market_cap_percentage</th>\n",
       "      <th>market_cap_change_percentage_24h_usd</th>\n",
       "      <th>updated_at</th>\n",
       "    </tr>\n",
       "  </thead>\n",
       "  <tbody>\n",
       "    <tr>\n",
       "      <th>0</th>\n",
       "      <td>btc</td>\n",
       "      <td>10135</td>\n",
       "      <td>0</td>\n",
       "      <td>49</td>\n",
       "      <td>3376</td>\n",
       "      <td>832</td>\n",
       "      <td>4.180181e+07</td>\n",
       "      <td>1.598513e+06</td>\n",
       "      <td>46.565582</td>\n",
       "      <td>-0.586926</td>\n",
       "      <td>2023-08-23 01:04:55</td>\n",
       "    </tr>\n",
       "    <tr>\n",
       "      <th>1</th>\n",
       "      <td>eth</td>\n",
       "      <td>10135</td>\n",
       "      <td>0</td>\n",
       "      <td>49</td>\n",
       "      <td>3376</td>\n",
       "      <td>832</td>\n",
       "      <td>6.665769e+08</td>\n",
       "      <td>2.549009e+07</td>\n",
       "      <td>18.032160</td>\n",
       "      <td>-0.586926</td>\n",
       "      <td>2023-08-23 01:04:55</td>\n",
       "    </tr>\n",
       "    <tr>\n",
       "      <th>2</th>\n",
       "      <td>ltc</td>\n",
       "      <td>10135</td>\n",
       "      <td>0</td>\n",
       "      <td>49</td>\n",
       "      <td>3376</td>\n",
       "      <td>832</td>\n",
       "      <td>1.680649e+10</td>\n",
       "      <td>6.426848e+08</td>\n",
       "      <td>NaN</td>\n",
       "      <td>-0.586926</td>\n",
       "      <td>2023-08-23 01:04:55</td>\n",
       "    </tr>\n",
       "    <tr>\n",
       "      <th>3</th>\n",
       "      <td>bch</td>\n",
       "      <td>10135</td>\n",
       "      <td>0</td>\n",
       "      <td>49</td>\n",
       "      <td>3376</td>\n",
       "      <td>832</td>\n",
       "      <td>5.825016e+09</td>\n",
       "      <td>2.227503e+08</td>\n",
       "      <td>NaN</td>\n",
       "      <td>-0.586926</td>\n",
       "      <td>2023-08-23 01:04:55</td>\n",
       "    </tr>\n",
       "    <tr>\n",
       "      <th>4</th>\n",
       "      <td>bnb</td>\n",
       "      <td>10135</td>\n",
       "      <td>0</td>\n",
       "      <td>49</td>\n",
       "      <td>3376</td>\n",
       "      <td>832</td>\n",
       "      <td>5.086336e+09</td>\n",
       "      <td>1.945029e+08</td>\n",
       "      <td>3.020624</td>\n",
       "      <td>-0.586926</td>\n",
       "      <td>2023-08-23 01:04:55</td>\n",
       "    </tr>\n",
       "    <tr>\n",
       "      <th>...</th>\n",
       "      <td>...</td>\n",
       "      <td>...</td>\n",
       "      <td>...</td>\n",
       "      <td>...</td>\n",
       "      <td>...</td>\n",
       "      <td>...</td>\n",
       "      <td>...</td>\n",
       "      <td>...</td>\n",
       "      <td>...</td>\n",
       "      <td>...</td>\n",
       "      <td>...</td>\n",
       "    </tr>\n",
       "    <tr>\n",
       "      <th>62</th>\n",
       "      <td>usdc</td>\n",
       "      <td>10135</td>\n",
       "      <td>0</td>\n",
       "      <td>49</td>\n",
       "      <td>3376</td>\n",
       "      <td>832</td>\n",
       "      <td>NaN</td>\n",
       "      <td>NaN</td>\n",
       "      <td>2.383672</td>\n",
       "      <td>-0.586926</td>\n",
       "      <td>2023-08-23 01:04:55</td>\n",
       "    </tr>\n",
       "    <tr>\n",
       "      <th>63</th>\n",
       "      <td>steth</td>\n",
       "      <td>10135</td>\n",
       "      <td>0</td>\n",
       "      <td>49</td>\n",
       "      <td>3376</td>\n",
       "      <td>832</td>\n",
       "      <td>NaN</td>\n",
       "      <td>NaN</td>\n",
       "      <td>1.248294</td>\n",
       "      <td>-0.586926</td>\n",
       "      <td>2023-08-23 01:04:55</td>\n",
       "    </tr>\n",
       "    <tr>\n",
       "      <th>64</th>\n",
       "      <td>ada</td>\n",
       "      <td>10135</td>\n",
       "      <td>0</td>\n",
       "      <td>49</td>\n",
       "      <td>3376</td>\n",
       "      <td>832</td>\n",
       "      <td>NaN</td>\n",
       "      <td>NaN</td>\n",
       "      <td>0.833110</td>\n",
       "      <td>-0.586926</td>\n",
       "      <td>2023-08-23 01:04:55</td>\n",
       "    </tr>\n",
       "    <tr>\n",
       "      <th>65</th>\n",
       "      <td>doge</td>\n",
       "      <td>10135</td>\n",
       "      <td>0</td>\n",
       "      <td>49</td>\n",
       "      <td>3376</td>\n",
       "      <td>832</td>\n",
       "      <td>NaN</td>\n",
       "      <td>NaN</td>\n",
       "      <td>0.812008</td>\n",
       "      <td>-0.586926</td>\n",
       "      <td>2023-08-23 01:04:55</td>\n",
       "    </tr>\n",
       "    <tr>\n",
       "      <th>66</th>\n",
       "      <td>sol</td>\n",
       "      <td>10135</td>\n",
       "      <td>0</td>\n",
       "      <td>49</td>\n",
       "      <td>3376</td>\n",
       "      <td>832</td>\n",
       "      <td>NaN</td>\n",
       "      <td>NaN</td>\n",
       "      <td>0.768930</td>\n",
       "      <td>-0.586926</td>\n",
       "      <td>2023-08-23 01:04:55</td>\n",
       "    </tr>\n",
       "  </tbody>\n",
       "</table>\n",
       "<p>67 rows × 11 columns</p>\n",
       "</div>"
      ],
      "text/plain": [
       "   Unnamed: 0  active_cryptocurrencies  upcoming_icos  ongoing_icos  \\\n",
       "0         btc                    10135              0            49   \n",
       "1         eth                    10135              0            49   \n",
       "2         ltc                    10135              0            49   \n",
       "3         bch                    10135              0            49   \n",
       "4         bnb                    10135              0            49   \n",
       "..        ...                      ...            ...           ...   \n",
       "62       usdc                    10135              0            49   \n",
       "63      steth                    10135              0            49   \n",
       "64        ada                    10135              0            49   \n",
       "65       doge                    10135              0            49   \n",
       "66        sol                    10135              0            49   \n",
       "\n",
       "    ended_icos  markets  total_market_cap  total_volume  \\\n",
       "0         3376      832      4.180181e+07  1.598513e+06   \n",
       "1         3376      832      6.665769e+08  2.549009e+07   \n",
       "2         3376      832      1.680649e+10  6.426848e+08   \n",
       "3         3376      832      5.825016e+09  2.227503e+08   \n",
       "4         3376      832      5.086336e+09  1.945029e+08   \n",
       "..         ...      ...               ...           ...   \n",
       "62        3376      832               NaN           NaN   \n",
       "63        3376      832               NaN           NaN   \n",
       "64        3376      832               NaN           NaN   \n",
       "65        3376      832               NaN           NaN   \n",
       "66        3376      832               NaN           NaN   \n",
       "\n",
       "    market_cap_percentage  market_cap_change_percentage_24h_usd  \\\n",
       "0               46.565582                             -0.586926   \n",
       "1               18.032160                             -0.586926   \n",
       "2                     NaN                             -0.586926   \n",
       "3                     NaN                             -0.586926   \n",
       "4                3.020624                             -0.586926   \n",
       "..                    ...                                   ...   \n",
       "62               2.383672                             -0.586926   \n",
       "63               1.248294                             -0.586926   \n",
       "64               0.833110                             -0.586926   \n",
       "65               0.812008                             -0.586926   \n",
       "66               0.768930                             -0.586926   \n",
       "\n",
       "             updated_at  \n",
       "0   2023-08-23 01:04:55  \n",
       "1   2023-08-23 01:04:55  \n",
       "2   2023-08-23 01:04:55  \n",
       "3   2023-08-23 01:04:55  \n",
       "4   2023-08-23 01:04:55  \n",
       "..                  ...  \n",
       "62  2023-08-23 01:04:55  \n",
       "63  2023-08-23 01:04:55  \n",
       "64  2023-08-23 01:04:55  \n",
       "65  2023-08-23 01:04:55  \n",
       "66  2023-08-23 01:04:55  \n",
       "\n",
       "[67 rows x 11 columns]"
      ]
     },
     "execution_count": 4,
     "metadata": {},
     "output_type": "execute_result"
    }
   ],
   "source": [
    "df_global"
   ]
  },
  {
   "cell_type": "code",
   "execution_count": 5,
   "metadata": {},
   "outputs": [
    {
     "name": "stdout",
     "output_type": "stream",
     "text": [
      "<class 'pandas.core.frame.DataFrame'>\n",
      "RangeIndex: 67 entries, 0 to 66\n",
      "Data columns (total 11 columns):\n",
      " #   Column                                Non-Null Count  Dtype  \n",
      "---  ------                                --------------  -----  \n",
      " 0   Unnamed: 0                            67 non-null     object \n",
      " 1   active_cryptocurrencies               67 non-null     int64  \n",
      " 2   upcoming_icos                         67 non-null     int64  \n",
      " 3   ongoing_icos                          67 non-null     int64  \n",
      " 4   ended_icos                            67 non-null     int64  \n",
      " 5   markets                               67 non-null     int64  \n",
      " 6   total_market_cap                      61 non-null     float64\n",
      " 7   total_volume                          61 non-null     float64\n",
      " 8   market_cap_percentage                 10 non-null     float64\n",
      " 9   market_cap_change_percentage_24h_usd  67 non-null     float64\n",
      " 10  updated_at                            67 non-null     object \n",
      "dtypes: float64(4), int64(5), object(2)\n",
      "memory usage: 5.9+ KB\n"
     ]
    }
   ],
   "source": [
    "df_global.info()"
   ]
  },
  {
   "cell_type": "markdown",
   "metadata": {},
   "source": [
    "***"
   ]
  },
  {
   "cell_type": "markdown",
   "metadata": {},
   "source": [
    "EDA de datos globales"
   ]
  },
  {
   "cell_type": "code",
   "execution_count": 39,
   "metadata": {},
   "outputs": [
    {
     "data": {
      "text/html": [
       "<div>\n",
       "<style scoped>\n",
       "    .dataframe tbody tr th:only-of-type {\n",
       "        vertical-align: middle;\n",
       "    }\n",
       "\n",
       "    .dataframe tbody tr th {\n",
       "        vertical-align: top;\n",
       "    }\n",
       "\n",
       "    .dataframe thead th {\n",
       "        text-align: right;\n",
       "    }\n",
       "</style>\n",
       "<table border=\"1\" class=\"dataframe\">\n",
       "  <thead>\n",
       "    <tr style=\"text-align: right;\">\n",
       "      <th></th>\n",
       "      <th>id</th>\n",
       "      <th>symbol</th>\n",
       "      <th>name</th>\n",
       "      <th>current_price</th>\n",
       "      <th>market_cap</th>\n",
       "      <th>market_cap_rank</th>\n",
       "      <th>total_volume</th>\n",
       "      <th>last_updated</th>\n",
       "    </tr>\n",
       "  </thead>\n",
       "  <tbody>\n",
       "    <tr>\n",
       "      <th>0</th>\n",
       "      <td>bitcoin</td>\n",
       "      <td>btc</td>\n",
       "      <td>Bitcoin</td>\n",
       "      <td>26477.000000</td>\n",
       "      <td>516069624358</td>\n",
       "      <td>1</td>\n",
       "      <td>1.679656e+10</td>\n",
       "      <td>2023-08-24T01:15:25.836Z</td>\n",
       "    </tr>\n",
       "    <tr>\n",
       "      <th>1</th>\n",
       "      <td>ethereum</td>\n",
       "      <td>eth</td>\n",
       "      <td>Ethereum</td>\n",
       "      <td>1680.240000</td>\n",
       "      <td>202213513704</td>\n",
       "      <td>2</td>\n",
       "      <td>1.087880e+10</td>\n",
       "      <td>2023-08-24T01:15:22.055Z</td>\n",
       "    </tr>\n",
       "    <tr>\n",
       "      <th>2</th>\n",
       "      <td>tether</td>\n",
       "      <td>usdt</td>\n",
       "      <td>Tether</td>\n",
       "      <td>0.999915</td>\n",
       "      <td>82883533004</td>\n",
       "      <td>3</td>\n",
       "      <td>1.387413e+10</td>\n",
       "      <td>2023-08-24T01:15:00.324Z</td>\n",
       "    </tr>\n",
       "    <tr>\n",
       "      <th>3</th>\n",
       "      <td>binancecoin</td>\n",
       "      <td>bnb</td>\n",
       "      <td>BNB</td>\n",
       "      <td>216.210000</td>\n",
       "      <td>33280919099</td>\n",
       "      <td>4</td>\n",
       "      <td>5.567175e+08</td>\n",
       "      <td>2023-08-24T01:15:25.924Z</td>\n",
       "    </tr>\n",
       "    <tr>\n",
       "      <th>4</th>\n",
       "      <td>ripple</td>\n",
       "      <td>xrp</td>\n",
       "      <td>XRP</td>\n",
       "      <td>0.526931</td>\n",
       "      <td>27924597746</td>\n",
       "      <td>5</td>\n",
       "      <td>9.426082e+08</td>\n",
       "      <td>2023-08-24T01:15:27.672Z</td>\n",
       "    </tr>\n",
       "  </tbody>\n",
       "</table>\n",
       "</div>"
      ],
      "text/plain": [
       "            id symbol      name  current_price    market_cap  market_cap_rank  \\\n",
       "0      bitcoin    btc   Bitcoin   26477.000000  516069624358                1   \n",
       "1     ethereum    eth  Ethereum    1680.240000  202213513704                2   \n",
       "2       tether   usdt    Tether       0.999915   82883533004                3   \n",
       "3  binancecoin    bnb       BNB     216.210000   33280919099                4   \n",
       "4       ripple    xrp       XRP       0.526931   27924597746                5   \n",
       "\n",
       "   total_volume              last_updated  \n",
       "0  1.679656e+10  2023-08-24T01:15:25.836Z  \n",
       "1  1.087880e+10  2023-08-24T01:15:22.055Z  \n",
       "2  1.387413e+10  2023-08-24T01:15:00.324Z  \n",
       "3  5.567175e+08  2023-08-24T01:15:25.924Z  \n",
       "4  9.426082e+08  2023-08-24T01:15:27.672Z  "
      ]
     },
     "execution_count": 39,
     "metadata": {},
     "output_type": "execute_result"
    }
   ],
   "source": [
    "df_global = pd.read_csv('./Data/all_coins.csv',delimiter=',')\n",
    "df_global.head()"
   ]
  },
  {
   "cell_type": "markdown",
   "metadata": {},
   "source": [
    "# Análisis univariable"
   ]
  },
  {
   "cell_type": "code",
   "execution_count": 56,
   "metadata": {},
   "outputs": [
    {
     "data": {
      "text/plain": [
       "<AxesSubplot: xlabel='market_cap', ylabel='Count'>"
      ]
     },
     "execution_count": 56,
     "metadata": {},
     "output_type": "execute_result"
    },
    {
     "data": {
      "image/png": "[encoded data removed]",
      "text/plain": [
       "<Figure size 1080x432 with 1 Axes>"
      ]
     },
     "metadata": {
      "needs_background": "light"
     },
     "output_type": "display_data"
    }
   ],
   "source": [
    "plt.figure(figsize=(15, 6))\n",
    "sns.histplot(data=df_global,x='market_cap',bins=15)"
   ]
  },
  {
   "cell_type": "code",
   "execution_count": 57,
   "metadata": {},
   "outputs": [
    {
     "data": {
      "text/plain": [
       "<AxesSubplot: xlabel='total_volume', ylabel='Count'>"
      ]
     },
     "execution_count": 57,
     "metadata": {},
     "output_type": "execute_result"
    },
    {
     "data": {
      "image/png": "[encoded data removed]",
      "text/plain": [
       "<Figure size 1080x432 with 1 Axes>"
      ]
     },
     "metadata": {
      "needs_background": "light"
     },
     "output_type": "display_data"
    }
   ],
   "source": [
    "plt.figure(figsize=(15, 6))\n",
    "sns.histplot(data=df_global,x='total_volume',bins=15)"
   ]
  },
  {
   "cell_type": "code",
   "execution_count": 40,
   "metadata": {},
   "outputs": [],
   "source": [
    "# Crea un grafico de cajas ingresando como parametro una columna.\n",
    "def boxplot(data):\n",
    "    plt.figure(figsize=(20, 2))\n",
    "    sns.boxplot(data=data, orient=\"h\")\n",
    "    plt.title(data.name)\n",
    "    plt.xlabel('Precio en usd')\n",
    "    plt.show()"
   ]
  },
  {
   "cell_type": "code",
   "execution_count": 41,
   "metadata": {},
   "outputs": [
    {
     "data": {
      "image/png": "[encoded data removed]",
      "text/plain": [
       "<Figure size 1440x144 with 1 Axes>"
      ]
     },
     "metadata": {
      "needs_background": "light"
     },
     "output_type": "display_data"
    }
   ],
   "source": [
    "boxplot(df_global['market_cap'])"
   ]
  },
  {
   "cell_type": "code",
   "execution_count": 42,
   "metadata": {},
   "outputs": [
    {
     "data": {
      "image/png": "[encoded data removed]",
      "text/plain": [
       "<Figure size 1440x144 with 1 Axes>"
      ]
     },
     "metadata": {
      "needs_background": "light"
     },
     "output_type": "display_data"
    }
   ],
   "source": [
    "boxplot(df_global['total_volume'])"
   ]
  },
  {
   "cell_type": "code",
   "execution_count": 43,
   "metadata": {},
   "outputs": [
    {
     "data": {
      "image/png": "[encoded data removed]",
      "text/plain": [
       "<Figure size 1440x144 with 1 Axes>"
      ]
     },
     "metadata": {
      "needs_background": "light"
     },
     "output_type": "display_data"
    }
   ],
   "source": [
    "boxplot(df_global['current_price'])"
   ]
  },
  {
   "cell_type": "code",
   "execution_count": 44,
   "metadata": {},
   "outputs": [
    {
     "name": "stderr",
     "output_type": "stream",
     "text": [
      "C:\\Users\\Guille\\AppData\\Local\\Temp\\ipykernel_11672\\618315431.py:3: FutureWarning: The behavior of `series[i:j]` with an integer-dtype index is deprecated. In a future version, this will be treated as *label-based* indexing, consistent with e.g. `series[i]` lookups. To retain the old behavior, use `series.iloc[i:j]`. To get the future behavior, use `series.loc[i:j]`.\n",
      "  sum_cap_others = sum(market_cap_others['market_cap'][10:])\n",
      "C:\\Users\\Guille\\AppData\\Local\\Temp\\ipykernel_11672\\618315431.py:5: FutureWarning: The frame.append method is deprecated and will be removed from pandas in a future version. Use pandas.concat instead.\n",
      "  df_torta = df_torta.append({'name': 'Otras', 'market_cap': sum_cap_others}, ignore_index=True)\n"
     ]
    },
    {
     "data": {
      "text/html": [
       "<div>\n",
       "<style scoped>\n",
       "    .dataframe tbody tr th:only-of-type {\n",
       "        vertical-align: middle;\n",
       "    }\n",
       "\n",
       "    .dataframe tbody tr th {\n",
       "        vertical-align: top;\n",
       "    }\n",
       "\n",
       "    .dataframe thead th {\n",
       "        text-align: right;\n",
       "    }\n",
       "</style>\n",
       "<table border=\"1\" class=\"dataframe\">\n",
       "  <thead>\n",
       "    <tr style=\"text-align: right;\">\n",
       "      <th></th>\n",
       "      <th>id</th>\n",
       "      <th>symbol</th>\n",
       "      <th>name</th>\n",
       "      <th>current_price</th>\n",
       "      <th>market_cap</th>\n",
       "      <th>market_cap_rank</th>\n",
       "      <th>total_volume</th>\n",
       "      <th>last_updated</th>\n",
       "    </tr>\n",
       "  </thead>\n",
       "  <tbody>\n",
       "    <tr>\n",
       "      <th>0</th>\n",
       "      <td>bitcoin</td>\n",
       "      <td>btc</td>\n",
       "      <td>Bitcoin</td>\n",
       "      <td>26477.000000</td>\n",
       "      <td>516069624358</td>\n",
       "      <td>1.0</td>\n",
       "      <td>1.679656e+10</td>\n",
       "      <td>2023-08-24T01:15:25.836Z</td>\n",
       "    </tr>\n",
       "    <tr>\n",
       "      <th>1</th>\n",
       "      <td>ethereum</td>\n",
       "      <td>eth</td>\n",
       "      <td>Ethereum</td>\n",
       "      <td>1680.240000</td>\n",
       "      <td>202213513704</td>\n",
       "      <td>2.0</td>\n",
       "      <td>1.087880e+10</td>\n",
       "      <td>2023-08-24T01:15:22.055Z</td>\n",
       "    </tr>\n",
       "    <tr>\n",
       "      <th>2</th>\n",
       "      <td>tether</td>\n",
       "      <td>usdt</td>\n",
       "      <td>Tether</td>\n",
       "      <td>0.999915</td>\n",
       "      <td>82883533004</td>\n",
       "      <td>3.0</td>\n",
       "      <td>1.387413e+10</td>\n",
       "      <td>2023-08-24T01:15:00.324Z</td>\n",
       "    </tr>\n",
       "    <tr>\n",
       "      <th>3</th>\n",
       "      <td>binancecoin</td>\n",
       "      <td>bnb</td>\n",
       "      <td>BNB</td>\n",
       "      <td>216.210000</td>\n",
       "      <td>33280919099</td>\n",
       "      <td>4.0</td>\n",
       "      <td>5.567175e+08</td>\n",
       "      <td>2023-08-24T01:15:25.924Z</td>\n",
       "    </tr>\n",
       "    <tr>\n",
       "      <th>4</th>\n",
       "      <td>ripple</td>\n",
       "      <td>xrp</td>\n",
       "      <td>XRP</td>\n",
       "      <td>0.526931</td>\n",
       "      <td>27924597746</td>\n",
       "      <td>5.0</td>\n",
       "      <td>9.426082e+08</td>\n",
       "      <td>2023-08-24T01:15:27.672Z</td>\n",
       "    </tr>\n",
       "    <tr>\n",
       "      <th>5</th>\n",
       "      <td>usd-coin</td>\n",
       "      <td>usdc</td>\n",
       "      <td>USD Coin</td>\n",
       "      <td>0.999847</td>\n",
       "      <td>26008079637</td>\n",
       "      <td>6.0</td>\n",
       "      <td>6.132346e+09</td>\n",
       "      <td>2023-08-24T01:15:27.947Z</td>\n",
       "    </tr>\n",
       "    <tr>\n",
       "      <th>6</th>\n",
       "      <td>staked-ether</td>\n",
       "      <td>steth</td>\n",
       "      <td>Lido Staked Ether</td>\n",
       "      <td>1679.640000</td>\n",
       "      <td>14013410833</td>\n",
       "      <td>7.0</td>\n",
       "      <td>1.134826e+07</td>\n",
       "      <td>2023-08-24T01:15:27.549Z</td>\n",
       "    </tr>\n",
       "    <tr>\n",
       "      <th>7</th>\n",
       "      <td>cardano</td>\n",
       "      <td>ada</td>\n",
       "      <td>Cardano</td>\n",
       "      <td>0.268961</td>\n",
       "      <td>9441718813</td>\n",
       "      <td>8.0</td>\n",
       "      <td>1.791485e+08</td>\n",
       "      <td>2023-08-24T01:15:21.739Z</td>\n",
       "    </tr>\n",
       "    <tr>\n",
       "      <th>8</th>\n",
       "      <td>dogecoin</td>\n",
       "      <td>doge</td>\n",
       "      <td>Dogecoin</td>\n",
       "      <td>0.063839</td>\n",
       "      <td>8988778604</td>\n",
       "      <td>9.0</td>\n",
       "      <td>3.333835e+08</td>\n",
       "      <td>2023-08-24T01:15:27.769Z</td>\n",
       "    </tr>\n",
       "    <tr>\n",
       "      <th>9</th>\n",
       "      <td>solana</td>\n",
       "      <td>sol</td>\n",
       "      <td>Solana</td>\n",
       "      <td>21.700000</td>\n",
       "      <td>8860517376</td>\n",
       "      <td>10.0</td>\n",
       "      <td>4.191633e+08</td>\n",
       "      <td>2023-08-24T01:15:19.468Z</td>\n",
       "    </tr>\n",
       "    <tr>\n",
       "      <th>10</th>\n",
       "      <td>NaN</td>\n",
       "      <td>NaN</td>\n",
       "      <td>Otras</td>\n",
       "      <td>NaN</td>\n",
       "      <td>106769660694</td>\n",
       "      <td>NaN</td>\n",
       "      <td>NaN</td>\n",
       "      <td>NaN</td>\n",
       "    </tr>\n",
       "  </tbody>\n",
       "</table>\n",
       "</div>"
      ],
      "text/plain": [
       "              id symbol               name  current_price    market_cap  \\\n",
       "0        bitcoin    btc            Bitcoin   26477.000000  516069624358   \n",
       "1       ethereum    eth           Ethereum    1680.240000  202213513704   \n",
       "2         tether   usdt             Tether       0.999915   82883533004   \n",
       "3    binancecoin    bnb                BNB     216.210000   33280919099   \n",
       "4         ripple    xrp                XRP       0.526931   27924597746   \n",
       "5       usd-coin   usdc           USD Coin       0.999847   26008079637   \n",
       "6   staked-ether  steth  Lido Staked Ether    1679.640000   14013410833   \n",
       "7        cardano    ada            Cardano       0.268961    9441718813   \n",
       "8       dogecoin   doge           Dogecoin       0.063839    8988778604   \n",
       "9         solana    sol             Solana      21.700000    8860517376   \n",
       "10           NaN    NaN              Otras            NaN  106769660694   \n",
       "\n",
       "    market_cap_rank  total_volume              last_updated  \n",
       "0               1.0  1.679656e+10  2023-08-24T01:15:25.836Z  \n",
       "1               2.0  1.087880e+10  2023-08-24T01:15:22.055Z  \n",
       "2               3.0  1.387413e+10  2023-08-24T01:15:00.324Z  \n",
       "3               4.0  5.567175e+08  2023-08-24T01:15:25.924Z  \n",
       "4               5.0  9.426082e+08  2023-08-24T01:15:27.672Z  \n",
       "5               6.0  6.132346e+09  2023-08-24T01:15:27.947Z  \n",
       "6               7.0  1.134826e+07  2023-08-24T01:15:27.549Z  \n",
       "7               8.0  1.791485e+08  2023-08-24T01:15:21.739Z  \n",
       "8               9.0  3.333835e+08  2023-08-24T01:15:27.769Z  \n",
       "9              10.0  4.191633e+08  2023-08-24T01:15:19.468Z  \n",
       "10              NaN           NaN                       NaN  "
      ]
     },
     "execution_count": 44,
     "metadata": {},
     "output_type": "execute_result"
    }
   ],
   "source": [
    "df_torta = df_global\n",
    "market_cap_others = df_torta.drop(range(0,10))\n",
    "sum_cap_others = sum(market_cap_others['market_cap'][10:])\n",
    "df_torta.drop(range(10,250),inplace=True)\n",
    "df_torta = df_torta.append({'name': 'Otras', 'market_cap': sum_cap_others}, ignore_index=True)\n",
    "df_torta"
   ]
  },
  {
   "cell_type": "code",
   "execution_count": 51,
   "metadata": {},
   "outputs": [
    {
     "data": {
      "image/png": "[encoded data removed]",
      "text/plain": [
       "<Figure size 864x864 with 1 Axes>"
      ]
     },
     "metadata": {},
     "output_type": "display_data"
    }
   ],
   "source": [
    "plt.figure(figsize=(12, 12))\n",
    "plt.title('Distribución de Capitalización de Mercado')\n",
    "plt.pie(df_torta['market_cap'], labels=df_torta['symbol'], autopct='%1.2f%%', startangle=140)\n",
    "plt.show()"
   ]
  },
  {
   "cell_type": "markdown",
   "metadata": {},
   "source": [
    "***"
   ]
  },
  {
   "cell_type": "markdown",
   "metadata": {},
   "source": [
    "Exchanges"
   ]
  },
  {
   "cell_type": "markdown",
   "metadata": {},
   "source": [
    "Un \"exchange\" es una plataforma en línea donde puedes comprar, vender o intercambiar activos financieros como criptomonedas, acciones o divisas. Actúa como intermediario facilitando estas transacciones. "
   ]
  },
  {
   "cell_type": "code",
   "execution_count": 18,
   "metadata": {},
   "outputs": [
    {
     "data": {
      "text/html": [
       "<div>\n",
       "<style scoped>\n",
       "    .dataframe tbody tr th:only-of-type {\n",
       "        vertical-align: middle;\n",
       "    }\n",
       "\n",
       "    .dataframe tbody tr th {\n",
       "        vertical-align: top;\n",
       "    }\n",
       "\n",
       "    .dataframe thead th {\n",
       "        text-align: right;\n",
       "    }\n",
       "</style>\n",
       "<table border=\"1\" class=\"dataframe\">\n",
       "  <thead>\n",
       "    <tr style=\"text-align: right;\">\n",
       "      <th></th>\n",
       "      <th>id</th>\n",
       "      <th>name</th>\n",
       "      <th>year_established</th>\n",
       "      <th>country</th>\n",
       "      <th>trust_score</th>\n",
       "      <th>trust_score_rank</th>\n",
       "      <th>trade_volume_24h_btc</th>\n",
       "      <th>trade_volume_24h_btc_normalized</th>\n",
       "    </tr>\n",
       "  </thead>\n",
       "  <tbody>\n",
       "    <tr>\n",
       "      <th>0</th>\n",
       "      <td>binance</td>\n",
       "      <td>Binance</td>\n",
       "      <td>2017.0</td>\n",
       "      <td>Cayman Islands</td>\n",
       "      <td>10</td>\n",
       "      <td>1</td>\n",
       "      <td>219585.526866</td>\n",
       "      <td>146758.949175</td>\n",
       "    </tr>\n",
       "    <tr>\n",
       "      <th>1</th>\n",
       "      <td>gdax</td>\n",
       "      <td>Coinbase Exchange</td>\n",
       "      <td>2012.0</td>\n",
       "      <td>United States</td>\n",
       "      <td>10</td>\n",
       "      <td>2</td>\n",
       "      <td>30348.020205</td>\n",
       "      <td>30348.020205</td>\n",
       "    </tr>\n",
       "    <tr>\n",
       "      <th>2</th>\n",
       "      <td>bybit_spot</td>\n",
       "      <td>Bybit</td>\n",
       "      <td>2018.0</td>\n",
       "      <td>British Virgin Islands</td>\n",
       "      <td>10</td>\n",
       "      <td>3</td>\n",
       "      <td>29942.294454</td>\n",
       "      <td>29942.294454</td>\n",
       "    </tr>\n",
       "    <tr>\n",
       "      <th>3</th>\n",
       "      <td>huobi</td>\n",
       "      <td>Huobi</td>\n",
       "      <td>2013.0</td>\n",
       "      <td>Seychelles</td>\n",
       "      <td>10</td>\n",
       "      <td>4</td>\n",
       "      <td>42694.725038</td>\n",
       "      <td>22099.018034</td>\n",
       "    </tr>\n",
       "    <tr>\n",
       "      <th>4</th>\n",
       "      <td>kraken</td>\n",
       "      <td>Kraken</td>\n",
       "      <td>2011.0</td>\n",
       "      <td>United States</td>\n",
       "      <td>10</td>\n",
       "      <td>5</td>\n",
       "      <td>16638.950126</td>\n",
       "      <td>14643.816678</td>\n",
       "    </tr>\n",
       "    <tr>\n",
       "      <th>5</th>\n",
       "      <td>kucoin</td>\n",
       "      <td>KuCoin</td>\n",
       "      <td>2014.0</td>\n",
       "      <td>Seychelles</td>\n",
       "      <td>10</td>\n",
       "      <td>6</td>\n",
       "      <td>10519.058833</td>\n",
       "      <td>10519.058833</td>\n",
       "    </tr>\n",
       "    <tr>\n",
       "      <th>6</th>\n",
       "      <td>bitfinex</td>\n",
       "      <td>Bitfinex</td>\n",
       "      <td>2012.0</td>\n",
       "      <td>British Virgin Islands</td>\n",
       "      <td>10</td>\n",
       "      <td>7</td>\n",
       "      <td>3196.346335</td>\n",
       "      <td>2445.707654</td>\n",
       "    </tr>\n",
       "    <tr>\n",
       "      <th>7</th>\n",
       "      <td>binance_us</td>\n",
       "      <td>Binance US</td>\n",
       "      <td>2019.0</td>\n",
       "      <td>United States</td>\n",
       "      <td>10</td>\n",
       "      <td>8</td>\n",
       "      <td>329.918987</td>\n",
       "      <td>329.918987</td>\n",
       "    </tr>\n",
       "    <tr>\n",
       "      <th>8</th>\n",
       "      <td>okex</td>\n",
       "      <td>OKX</td>\n",
       "      <td>2017.0</td>\n",
       "      <td>Seychelles</td>\n",
       "      <td>9</td>\n",
       "      <td>9</td>\n",
       "      <td>25211.850144</td>\n",
       "      <td>25211.850144</td>\n",
       "    </tr>\n",
       "    <tr>\n",
       "      <th>9</th>\n",
       "      <td>gate</td>\n",
       "      <td>Gate.io</td>\n",
       "      <td>NaN</td>\n",
       "      <td>Cayman Islands</td>\n",
       "      <td>9</td>\n",
       "      <td>10</td>\n",
       "      <td>17772.268871</td>\n",
       "      <td>17772.268871</td>\n",
       "    </tr>\n",
       "  </tbody>\n",
       "</table>\n",
       "</div>"
      ],
      "text/plain": [
       "           id               name  year_established                 country  \\\n",
       "0     binance            Binance            2017.0          Cayman Islands   \n",
       "1        gdax  Coinbase Exchange            2012.0           United States   \n",
       "2  bybit_spot              Bybit            2018.0  British Virgin Islands   \n",
       "3       huobi              Huobi            2013.0              Seychelles   \n",
       "4      kraken             Kraken            2011.0           United States   \n",
       "5      kucoin             KuCoin            2014.0              Seychelles   \n",
       "6    bitfinex           Bitfinex            2012.0  British Virgin Islands   \n",
       "7  binance_us         Binance US            2019.0           United States   \n",
       "8        okex                OKX            2017.0              Seychelles   \n",
       "9        gate            Gate.io               NaN          Cayman Islands   \n",
       "\n",
       "   trust_score  trust_score_rank  trade_volume_24h_btc  \\\n",
       "0           10                 1         219585.526866   \n",
       "1           10                 2          30348.020205   \n",
       "2           10                 3          29942.294454   \n",
       "3           10                 4          42694.725038   \n",
       "4           10                 5          16638.950126   \n",
       "5           10                 6          10519.058833   \n",
       "6           10                 7           3196.346335   \n",
       "7           10                 8            329.918987   \n",
       "8            9                 9          25211.850144   \n",
       "9            9                10          17772.268871   \n",
       "\n",
       "   trade_volume_24h_btc_normalized  \n",
       "0                    146758.949175  \n",
       "1                     30348.020205  \n",
       "2                     29942.294454  \n",
       "3                     22099.018034  \n",
       "4                     14643.816678  \n",
       "5                     10519.058833  \n",
       "6                      2445.707654  \n",
       "7                       329.918987  \n",
       "8                     25211.850144  \n",
       "9                     17772.268871  "
      ]
     },
     "execution_count": 18,
     "metadata": {},
     "output_type": "execute_result"
    }
   ],
   "source": [
    "# Lectura del archivo csv para su exploracion\n",
    "df_exchanges = pd.read_csv('./Data/exchanges.csv',delimiter=',')\n",
    "df_exchanges.head(10)"
   ]
  },
  {
   "cell_type": "code",
   "execution_count": 19,
   "metadata": {},
   "outputs": [
    {
     "name": "stdout",
     "output_type": "stream",
     "text": [
      "<class 'pandas.core.frame.DataFrame'>\n",
      "RangeIndex: 100 entries, 0 to 99\n",
      "Data columns (total 8 columns):\n",
      " #   Column                           Non-Null Count  Dtype  \n",
      "---  ------                           --------------  -----  \n",
      " 0   id                               100 non-null    object \n",
      " 1   name                             100 non-null    object \n",
      " 2   year_established                 76 non-null     float64\n",
      " 3   country                          86 non-null     object \n",
      " 4   trust_score                      100 non-null    int64  \n",
      " 5   trust_score_rank                 100 non-null    int64  \n",
      " 6   trade_volume_24h_btc             100 non-null    float64\n",
      " 7   trade_volume_24h_btc_normalized  100 non-null    float64\n",
      "dtypes: float64(3), int64(2), object(3)\n",
      "memory usage: 6.4+ KB\n"
     ]
    }
   ],
   "source": [
    "df_exchanges.info()"
   ]
  },
  {
   "cell_type": "markdown",
   "metadata": {},
   "source": [
    "#### Faltan datos en la columna year_established y country."
   ]
  },
  {
   "cell_type": "code",
   "execution_count": 20,
   "metadata": {},
   "outputs": [
    {
     "data": {
      "text/html": [
       "<div>\n",
       "<style scoped>\n",
       "    .dataframe tbody tr th:only-of-type {\n",
       "        vertical-align: middle;\n",
       "    }\n",
       "\n",
       "    .dataframe tbody tr th {\n",
       "        vertical-align: top;\n",
       "    }\n",
       "\n",
       "    .dataframe thead th {\n",
       "        text-align: right;\n",
       "    }\n",
       "</style>\n",
       "<table border=\"1\" class=\"dataframe\">\n",
       "  <thead>\n",
       "    <tr style=\"text-align: right;\">\n",
       "      <th></th>\n",
       "      <th>year_established</th>\n",
       "      <th>trust_score</th>\n",
       "      <th>trust_score_rank</th>\n",
       "      <th>trade_volume_24h_btc</th>\n",
       "      <th>trade_volume_24h_btc_normalized</th>\n",
       "    </tr>\n",
       "  </thead>\n",
       "  <tbody>\n",
       "    <tr>\n",
       "      <th>count</th>\n",
       "      <td>76.000000</td>\n",
       "      <td>100.000000</td>\n",
       "      <td>100.000000</td>\n",
       "      <td>100.000000</td>\n",
       "      <td>100.000000</td>\n",
       "    </tr>\n",
       "    <tr>\n",
       "      <th>mean</th>\n",
       "      <td>2016.947368</td>\n",
       "      <td>7.320000</td>\n",
       "      <td>50.500000</td>\n",
       "      <td>10214.805598</td>\n",
       "      <td>7254.358642</td>\n",
       "    </tr>\n",
       "    <tr>\n",
       "      <th>std</th>\n",
       "      <td>2.712415</td>\n",
       "      <td>1.196628</td>\n",
       "      <td>29.011492</td>\n",
       "      <td>25179.166545</td>\n",
       "      <td>16370.703267</td>\n",
       "    </tr>\n",
       "    <tr>\n",
       "      <th>min</th>\n",
       "      <td>2011.000000</td>\n",
       "      <td>6.000000</td>\n",
       "      <td>1.000000</td>\n",
       "      <td>2.785251</td>\n",
       "      <td>2.785251</td>\n",
       "    </tr>\n",
       "    <tr>\n",
       "      <th>25%</th>\n",
       "      <td>2014.000000</td>\n",
       "      <td>6.000000</td>\n",
       "      <td>25.750000</td>\n",
       "      <td>381.866581</td>\n",
       "      <td>372.367009</td>\n",
       "    </tr>\n",
       "    <tr>\n",
       "      <th>50%</th>\n",
       "      <td>2018.000000</td>\n",
       "      <td>7.000000</td>\n",
       "      <td>50.500000</td>\n",
       "      <td>1843.942370</td>\n",
       "      <td>1772.315490</td>\n",
       "    </tr>\n",
       "    <tr>\n",
       "      <th>75%</th>\n",
       "      <td>2018.000000</td>\n",
       "      <td>8.000000</td>\n",
       "      <td>75.250000</td>\n",
       "      <td>11547.010749</td>\n",
       "      <td>8566.808856</td>\n",
       "    </tr>\n",
       "    <tr>\n",
       "      <th>max</th>\n",
       "      <td>2022.000000</td>\n",
       "      <td>10.000000</td>\n",
       "      <td>100.000000</td>\n",
       "      <td>219585.526866</td>\n",
       "      <td>146758.949175</td>\n",
       "    </tr>\n",
       "  </tbody>\n",
       "</table>\n",
       "</div>"
      ],
      "text/plain": [
       "       year_established  trust_score  trust_score_rank  trade_volume_24h_btc  \\\n",
       "count         76.000000   100.000000        100.000000            100.000000   \n",
       "mean        2016.947368     7.320000         50.500000          10214.805598   \n",
       "std            2.712415     1.196628         29.011492          25179.166545   \n",
       "min         2011.000000     6.000000          1.000000              2.785251   \n",
       "25%         2014.000000     6.000000         25.750000            381.866581   \n",
       "50%         2018.000000     7.000000         50.500000           1843.942370   \n",
       "75%         2018.000000     8.000000         75.250000          11547.010749   \n",
       "max         2022.000000    10.000000        100.000000         219585.526866   \n",
       "\n",
       "       trade_volume_24h_btc_normalized  \n",
       "count                       100.000000  \n",
       "mean                       7254.358642  \n",
       "std                       16370.703267  \n",
       "min                           2.785251  \n",
       "25%                         372.367009  \n",
       "50%                        1772.315490  \n",
       "75%                        8566.808856  \n",
       "max                      146758.949175  "
      ]
     },
     "execution_count": 20,
     "metadata": {},
     "output_type": "execute_result"
    }
   ],
   "source": [
    "df_exchanges.describe()"
   ]
  },
  {
   "cell_type": "markdown",
   "metadata": {},
   "source": [
    "#### Los valores numericos no presentan anomalias"
   ]
  },
  {
   "cell_type": "markdown",
   "metadata": {},
   "source": [
    "# Análisis univariable"
   ]
  },
  {
   "cell_type": "markdown",
   "metadata": {},
   "source": [
    "### Grafico de caja"
   ]
  },
  {
   "cell_type": "code",
   "execution_count": 21,
   "metadata": {},
   "outputs": [
    {
     "data": {
      "text/plain": [
       "<AxesSubplot: xlabel='trade_volume_24h_btc'>"
      ]
     },
     "execution_count": 21,
     "metadata": {},
     "output_type": "execute_result"
    },
    {
     "data": {
      "image/png": "[encoded data removed]",
      "text/plain": [
       "<Figure size 1440x144 with 1 Axes>"
      ]
     },
     "metadata": {
      "needs_background": "light"
     },
     "output_type": "display_data"
    }
   ],
   "source": [
    "plt.figure(figsize=(20, 2))\n",
    "sns.boxplot(data=df_exchanges,x='trade_volume_24h_btc')"
   ]
  },
  {
   "cell_type": "code",
   "execution_count": 22,
   "metadata": {},
   "outputs": [
    {
     "data": {
      "text/plain": [
       "<AxesSubplot: xlabel='trade_volume_24h_btc_normalized'>"
      ]
     },
     "execution_count": 22,
     "metadata": {},
     "output_type": "execute_result"
    },
    {
     "data": {
      "image/png": "[encoded data removed]",
      "text/plain": [
       "<Figure size 1440x144 with 1 Axes>"
      ]
     },
     "metadata": {
      "needs_background": "light"
     },
     "output_type": "display_data"
    }
   ],
   "source": [
    "plt.figure(figsize=(20, 2))\n",
    "sns.boxplot(data=df_exchanges,x='trade_volume_24h_btc_normalized')"
   ]
  },
  {
   "cell_type": "code",
   "execution_count": 23,
   "metadata": {},
   "outputs": [
    {
     "data": {
      "text/plain": [
       "<AxesSubplot: xlabel='trust_score'>"
      ]
     },
     "execution_count": 23,
     "metadata": {},
     "output_type": "execute_result"
    },
    {
     "data": {
      "image/png": "[encoded data removed]",
      "text/plain": [
       "<Figure size 1440x144 with 1 Axes>"
      ]
     },
     "metadata": {
      "needs_background": "light"
     },
     "output_type": "display_data"
    }
   ],
   "source": [
    "plt.figure(figsize=(20, 2))\n",
    "sns.boxplot(data=df_exchanges,x='trust_score')"
   ]
  },
  {
   "cell_type": "markdown",
   "metadata": {},
   "source": [
    "### Histogramas"
   ]
  },
  {
   "cell_type": "code",
   "execution_count": 24,
   "metadata": {},
   "outputs": [
    {
     "data": {
      "text/plain": [
       "<AxesSubplot: xlabel='trade_volume_24h_btc', ylabel='Count'>"
      ]
     },
     "execution_count": 24,
     "metadata": {},
     "output_type": "execute_result"
    },
    {
     "data": {
      "image/png": "[encoded data removed]",
      "text/plain": [
       "<Figure size 1080x432 with 1 Axes>"
      ]
     },
     "metadata": {
      "needs_background": "light"
     },
     "output_type": "display_data"
    }
   ],
   "source": [
    "plt.figure(figsize=(15, 6))\n",
    "sns.histplot(data=df_exchanges,x='trade_volume_24h_btc',bins=15)"
   ]
  },
  {
   "cell_type": "code",
   "execution_count": 25,
   "metadata": {},
   "outputs": [
    {
     "data": {
      "text/plain": [
       "<AxesSubplot: xlabel='year_established', ylabel='Count'>"
      ]
     },
     "execution_count": 25,
     "metadata": {},
     "output_type": "execute_result"
    },
    {
     "data": {
      "image/png": "[encoded data removed]",
      "text/plain": [
       "<Figure size 720x432 with 1 Axes>"
      ]
     },
     "metadata": {
      "needs_background": "light"
     },
     "output_type": "display_data"
    }
   ],
   "source": [
    "plt.figure(figsize=(10, 6))\n",
    "sns.histplot(data=df_exchanges,x='year_established',bins=np.arange(2010,2022,1))"
   ]
  },
  {
   "cell_type": "markdown",
   "metadata": {},
   "source": [
    "### Grafico de barras que muestra la cantidad de veces que se repite un dato en la columna year_established"
   ]
  },
  {
   "cell_type": "code",
   "execution_count": 26,
   "metadata": {},
   "outputs": [
    {
     "data": {
      "text/plain": [
       "<AxesSubplot: xlabel='year_established', ylabel='count'>"
      ]
     },
     "execution_count": 26,
     "metadata": {},
     "output_type": "execute_result"
    },
    {
     "data": {
      "image/png": "[encoded data removed]",
      "text/plain": [
       "<Figure size 720x432 with 1 Axes>"
      ]
     },
     "metadata": {
      "needs_background": "light"
     },
     "output_type": "display_data"
    }
   ],
   "source": [
    "plt.figure(figsize=(10, 6))\n",
    "sns.countplot(data=df_exchanges,x='year_established')"
   ]
  },
  {
   "cell_type": "markdown",
   "metadata": {},
   "source": [
    "#### Se observa que el año en el que se fundaron mas exchanges fue en el 2018"
   ]
  },
  {
   "cell_type": "markdown",
   "metadata": {},
   "source": [
    "### Grafico de barras para visualizar la cantidad de veces que un exchange se en cuentra en un pais"
   ]
  },
  {
   "cell_type": "code",
   "execution_count": 27,
   "metadata": {},
   "outputs": [
    {
     "data": {
      "text/plain": [
       "<AxesSubplot: xlabel='country', ylabel='count'>"
      ]
     },
     "execution_count": 27,
     "metadata": {},
     "output_type": "execute_result"
    },
    {
     "data": {
      "image/png": "[encoded data removed]",
      "text/plain": [
       "<Figure size 1440x432 with 1 Axes>"
      ]
     },
     "metadata": {
      "needs_background": "light"
     },
     "output_type": "display_data"
    }
   ],
   "source": [
    "plt.figure(figsize=(20, 6))\n",
    "plt.xticks(rotation=90)\n",
    "sns.countplot(data=df_exchanges,x='country')"
   ]
  },
  {
   "cell_type": "markdown",
   "metadata": {},
   "source": [
    "#### El pais que alberga mas echanges es Seychelles que un archipiélago, frente a africa oriental."
   ]
  },
  {
   "cell_type": "markdown",
   "metadata": {},
   "source": [
    "## Análisis multivariable"
   ]
  },
  {
   "cell_type": "markdown",
   "metadata": {},
   "source": [
    "Esta lista muestra los 10 paises con mayor volumen de movimiento de bitcoin normalizado"
   ]
  },
  {
   "cell_type": "code",
   "execution_count": 33,
   "metadata": {},
   "outputs": [
    {
     "data": {
      "text/html": [
       "<div>\n",
       "<style scoped>\n",
       "    .dataframe tbody tr th:only-of-type {\n",
       "        vertical-align: middle;\n",
       "    }\n",
       "\n",
       "    .dataframe tbody tr th {\n",
       "        vertical-align: top;\n",
       "    }\n",
       "\n",
       "    .dataframe thead th {\n",
       "        text-align: right;\n",
       "    }\n",
       "</style>\n",
       "<table border=\"1\" class=\"dataframe\">\n",
       "  <thead>\n",
       "    <tr style=\"text-align: right;\">\n",
       "      <th></th>\n",
       "      <th>trade_volume_24h_btc</th>\n",
       "      <th>trade_volume_24h_btc_normalized</th>\n",
       "    </tr>\n",
       "    <tr>\n",
       "      <th>country</th>\n",
       "      <th></th>\n",
       "      <th></th>\n",
       "    </tr>\n",
       "  </thead>\n",
       "  <tbody>\n",
       "    <tr>\n",
       "      <th>Cayman Islands</th>\n",
       "      <td>306466.322381</td>\n",
       "      <td>217075.225811</td>\n",
       "    </tr>\n",
       "    <tr>\n",
       "      <th>Seychelles</th>\n",
       "      <td>314063.355955</td>\n",
       "      <td>181273.087522</td>\n",
       "    </tr>\n",
       "    <tr>\n",
       "      <th>British Virgin Islands</th>\n",
       "      <td>76943.283084</td>\n",
       "      <td>72080.860843</td>\n",
       "    </tr>\n",
       "    <tr>\n",
       "      <th>Lithuania</th>\n",
       "      <td>61494.701631</td>\n",
       "      <td>51784.514802</td>\n",
       "    </tr>\n",
       "    <tr>\n",
       "      <th>United States</th>\n",
       "      <td>48027.813903</td>\n",
       "      <td>46032.680455</td>\n",
       "    </tr>\n",
       "    <tr>\n",
       "      <th>United Arab Emirates</th>\n",
       "      <td>30189.572686</td>\n",
       "      <td>30189.572686</td>\n",
       "    </tr>\n",
       "    <tr>\n",
       "      <th>South Korea</th>\n",
       "      <td>33132.795461</td>\n",
       "      <td>27294.172344</td>\n",
       "    </tr>\n",
       "    <tr>\n",
       "      <th>Singapore</th>\n",
       "      <td>46111.778642</td>\n",
       "      <td>26022.821716</td>\n",
       "    </tr>\n",
       "    <tr>\n",
       "      <th>Estonia</th>\n",
       "      <td>10988.456025</td>\n",
       "      <td>10988.456025</td>\n",
       "    </tr>\n",
       "    <tr>\n",
       "      <th>Canada</th>\n",
       "      <td>16527.301886</td>\n",
       "      <td>9218.011216</td>\n",
       "    </tr>\n",
       "  </tbody>\n",
       "</table>\n",
       "</div>"
      ],
      "text/plain": [
       "                        trade_volume_24h_btc  trade_volume_24h_btc_normalized\n",
       "country                                                                      \n",
       "Cayman Islands                 306466.322381                    217075.225811\n",
       "Seychelles                     314063.355955                    181273.087522\n",
       "British Virgin Islands          76943.283084                     72080.860843\n",
       "Lithuania                       61494.701631                     51784.514802\n",
       "United States                   48027.813903                     46032.680455\n",
       "United Arab Emirates            30189.572686                     30189.572686\n",
       "South Korea                     33132.795461                     27294.172344\n",
       "Singapore                       46111.778642                     26022.821716\n",
       "Estonia                         10988.456025                     10988.456025\n",
       "Canada                          16527.301886                      9218.011216"
      ]
     },
     "execution_count": 33,
     "metadata": {},
     "output_type": "execute_result"
    }
   ],
   "source": [
    "df_exchanges[['country','trade_volume_24h_btc','trade_volume_24h_btc_normalized']].groupby('country').sum().sort_values('trade_volume_24h_btc_normalized',ascending=False).head(10)"
   ]
  },
  {
   "cell_type": "markdown",
   "metadata": {},
   "source": [
    "trade_volume_24h_btc: Volumen de Bitcoin que se mueven en 24hs"
   ]
  },
  {
   "cell_type": "markdown",
   "metadata": {},
   "source": [
    "trade_volume_24h_btc_normalized: Volumen de Bitcoin que se mueven en 24hs de forma normalizada para que este valor no sea afectado por altas volatilidades"
   ]
  },
  {
   "cell_type": "markdown",
   "metadata": {},
   "source": [
    "Se utiliza como guia para el top de paises con mayor volumen de bitcoin la variable trade_volume_24h_btc_normalized ya que como se menciona anteriormente es un dato que se tiene en cuenta historicamente y por lo tanto muestra informacion mas valiosa."
   ]
  }
 ],
 "metadata": {
  "kernelspec": {
   "display_name": "soyhenry",
   "language": "python",
   "name": "python3"
  },
  "language_info": {
   "codemirror_mode": {
    "name": "ipython",
    "version": 3
   },
   "file_extension": ".py",
   "mimetype": "text/x-python",
   "name": "python",
   "nbconvert_exporter": "python",
   "pygments_lexer": "ipython3",
   "version": "3.8.13"
  },
  "orig_nbformat": 4
 },
 "nbformat": 4,
 "nbformat_minor": 2
}
