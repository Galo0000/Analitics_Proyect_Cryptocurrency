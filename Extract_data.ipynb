{
 "cells": [
  {
   "cell_type": "code",
   "execution_count": 12,
   "metadata": {},
   "outputs": [],
   "source": [
    "import requests\n",
    "import pandas as pd"
   ]
  },
  {
   "cell_type": "code",
   "execution_count": 14,
   "metadata": {},
   "outputs": [
    {
     "name": "stdout",
     "output_type": "stream",
     "text": [
      "1. Bitcoin (btc): $27963\n",
      "2. Ethereum (eth): $1741.23\n",
      "3. Tether (usdt): $0.998428\n",
      "4. BNB (bnb): $226.13\n",
      "5. XRP (xrp): $0.57656\n",
      "6. USD Coin (usdc): $0.999364\n",
      "7. Lido Staked Ether (steth): $1740.26\n",
      "8. Cardano (ada): $0.270389\n",
      "9. Solana (sol): $23.06\n",
      "10. Dogecoin (doge): $0.065683\n"
     ]
    }
   ],
   "source": [
    "def get_top_coins():\n",
    "    url = \"https://api.coingecko.com/api/v3/coins/markets\"\n",
    "    params = {\n",
    "        \"vs_currency\": \"usd\",\n",
    "        \"order\": \"market_cap_desc\",\n",
    "        \"per_page\": 10,\n",
    "        \"page\": 1\n",
    "    }\n",
    "\n",
    "    response = requests.get(url, params=params)\n",
    "    data = response.json()\n",
    "\n",
    "    return data\n",
    "\n",
    "top_coins = get_top_coins()\n",
    "\n",
    "for index, coin in enumerate(top_coins, start=1):\n",
    "    print(f\"{index}. {coin['name']} ({coin['symbol']}): ${coin['current_price']}\")"
   ]
  },
  {
   "cell_type": "code",
   "execution_count": 2,
   "metadata": {},
   "outputs": [],
   "source": [
    "def get_historical_bitcoin_data():\n",
    "    days = 30*12*6\n",
    "    url = f\"https://api.coingecko.com/api/v3/coins/bitcoin/market_chart?vs_currency=usd&days={days}&interval=daily&precision=0\"\n",
    "    \n",
    "    response = requests.get(url)\n",
    "    \n",
    "    if response.status_code == 200:\n",
    "        data = response.json()\n",
    "        return data\n",
    "    else:\n",
    "        print(\"Error al obtener los datos:\", response.status_code)\n",
    "        return None\n"
   ]
  },
  {
   "cell_type": "code",
   "execution_count": 3,
   "metadata": {},
   "outputs": [
    {
     "data": {
      "text/html": [
       "<div>\n",
       "<style scoped>\n",
       "    .dataframe tbody tr th:only-of-type {\n",
       "        vertical-align: middle;\n",
       "    }\n",
       "\n",
       "    .dataframe tbody tr th {\n",
       "        vertical-align: top;\n",
       "    }\n",
       "\n",
       "    .dataframe thead th {\n",
       "        text-align: right;\n",
       "    }\n",
       "</style>\n",
       "<table border=\"1\" class=\"dataframe\">\n",
       "  <thead>\n",
       "    <tr style=\"text-align: right;\">\n",
       "      <th></th>\n",
       "      <th>prices</th>\n",
       "      <th>market_caps</th>\n",
       "      <th>total_volumes</th>\n",
       "    </tr>\n",
       "  </thead>\n",
       "  <tbody>\n",
       "    <tr>\n",
       "      <th>0</th>\n",
       "      <td>[1505692800000, 4012]</td>\n",
       "      <td>[1505692800000, 66500676482.32742]</td>\n",
       "      <td>[1505692800000, 1282809663.1080554]</td>\n",
       "    </tr>\n",
       "    <tr>\n",
       "      <th>1</th>\n",
       "      <td>[1505779200000, 3899]</td>\n",
       "      <td>[1505779200000, 64629619385.94208]</td>\n",
       "      <td>[1505779200000, 942656241.4373351]</td>\n",
       "    </tr>\n",
       "    <tr>\n",
       "      <th>2</th>\n",
       "      <td>[1505865600000, 3858]</td>\n",
       "      <td>[1505865600000, 63957210363.29384]</td>\n",
       "      <td>[1505865600000, 676074373.1781092]</td>\n",
       "    </tr>\n",
       "    <tr>\n",
       "      <th>3</th>\n",
       "      <td>[1505952000000, 3628]</td>\n",
       "      <td>[1505952000000, 60152757874.00039]</td>\n",
       "      <td>[1505952000000, 913652257.307351]</td>\n",
       "    </tr>\n",
       "    <tr>\n",
       "      <th>4</th>\n",
       "      <td>[1506038400000, 3622]</td>\n",
       "      <td>[1506038400000, 60061814860.04741]</td>\n",
       "      <td>[1506038400000, 767837732.7568976]</td>\n",
       "    </tr>\n",
       "  </tbody>\n",
       "</table>\n",
       "</div>"
      ],
      "text/plain": [
       "                  prices                         market_caps  \\\n",
       "0  [1505692800000, 4012]  [1505692800000, 66500676482.32742]   \n",
       "1  [1505779200000, 3899]  [1505779200000, 64629619385.94208]   \n",
       "2  [1505865600000, 3858]  [1505865600000, 63957210363.29384]   \n",
       "3  [1505952000000, 3628]  [1505952000000, 60152757874.00039]   \n",
       "4  [1506038400000, 3622]  [1506038400000, 60061814860.04741]   \n",
       "\n",
       "                         total_volumes  \n",
       "0  [1505692800000, 1282809663.1080554]  \n",
       "1   [1505779200000, 942656241.4373351]  \n",
       "2   [1505865600000, 676074373.1781092]  \n",
       "3    [1505952000000, 913652257.307351]  \n",
       "4   [1506038400000, 767837732.7568976]  "
      ]
     },
     "execution_count": 3,
     "metadata": {},
     "output_type": "execute_result"
    }
   ],
   "source": [
    "historical_data = get_historical_bitcoin_data()\n",
    "\n",
    "df = pd.DataFrame(historical_data)\n",
    "df.head()"
   ]
  },
  {
   "cell_type": "code",
   "execution_count": 4,
   "metadata": {},
   "outputs": [],
   "source": [
    "df['market_caps'] = df['market_caps'].apply(lambda x: int(x[1]))\n",
    "df['total_volumes'] = df['total_volumes'].apply(lambda x: int(x[1]))\n",
    "df['Date'] = df['prices'].apply(lambda x: pd.to_datetime(x[0], unit='ms'))\n",
    "df['prices'] = df['prices'].apply(lambda x: int(x[1]))"
   ]
  },
  {
   "cell_type": "code",
   "execution_count": 5,
   "metadata": {},
   "outputs": [
    {
     "data": {
      "text/html": [
       "<div>\n",
       "<style scoped>\n",
       "    .dataframe tbody tr th:only-of-type {\n",
       "        vertical-align: middle;\n",
       "    }\n",
       "\n",
       "    .dataframe tbody tr th {\n",
       "        vertical-align: top;\n",
       "    }\n",
       "\n",
       "    .dataframe thead th {\n",
       "        text-align: right;\n",
       "    }\n",
       "</style>\n",
       "<table border=\"1\" class=\"dataframe\">\n",
       "  <thead>\n",
       "    <tr style=\"text-align: right;\">\n",
       "      <th></th>\n",
       "      <th>prices</th>\n",
       "      <th>market_caps</th>\n",
       "      <th>total_volumes</th>\n",
       "      <th>Date</th>\n",
       "    </tr>\n",
       "  </thead>\n",
       "  <tbody>\n",
       "    <tr>\n",
       "      <th>0</th>\n",
       "      <td>4012</td>\n",
       "      <td>66500676482</td>\n",
       "      <td>1282809663</td>\n",
       "      <td>2017-09-18</td>\n",
       "    </tr>\n",
       "    <tr>\n",
       "      <th>1</th>\n",
       "      <td>3899</td>\n",
       "      <td>64629619385</td>\n",
       "      <td>942656241</td>\n",
       "      <td>2017-09-19</td>\n",
       "    </tr>\n",
       "    <tr>\n",
       "      <th>2</th>\n",
       "      <td>3858</td>\n",
       "      <td>63957210363</td>\n",
       "      <td>676074373</td>\n",
       "      <td>2017-09-20</td>\n",
       "    </tr>\n",
       "    <tr>\n",
       "      <th>3</th>\n",
       "      <td>3628</td>\n",
       "      <td>60152757874</td>\n",
       "      <td>913652257</td>\n",
       "      <td>2017-09-21</td>\n",
       "    </tr>\n",
       "    <tr>\n",
       "      <th>4</th>\n",
       "      <td>3622</td>\n",
       "      <td>60061814860</td>\n",
       "      <td>767837732</td>\n",
       "      <td>2017-09-22</td>\n",
       "    </tr>\n",
       "  </tbody>\n",
       "</table>\n",
       "</div>"
      ],
      "text/plain": [
       "   prices  market_caps  total_volumes       Date\n",
       "0    4012  66500676482     1282809663 2017-09-18\n",
       "1    3899  64629619385      942656241 2017-09-19\n",
       "2    3858  63957210363      676074373 2017-09-20\n",
       "3    3628  60152757874      913652257 2017-09-21\n",
       "4    3622  60061814860      767837732 2017-09-22"
      ]
     },
     "execution_count": 5,
     "metadata": {},
     "output_type": "execute_result"
    }
   ],
   "source": [
    "df.head()"
   ]
  },
  {
   "cell_type": "code",
   "execution_count": 9,
   "metadata": {},
   "outputs": [],
   "source": [
    "df.rename(columns={'prices': 'Prices_usd','total_volumes':'Volume','market_caps':'Market_caps'}, inplace=True)"
   ]
  },
  {
   "cell_type": "code",
   "execution_count": 10,
   "metadata": {},
   "outputs": [
    {
     "name": "stdout",
     "output_type": "stream",
     "text": [
      "<class 'pandas.core.frame.DataFrame'>\n",
      "RangeIndex: 2161 entries, 0 to 2160\n",
      "Data columns (total 4 columns):\n",
      " #   Column       Non-Null Count  Dtype         \n",
      "---  ------       --------------  -----         \n",
      " 0   Prices_usd   2161 non-null   int64         \n",
      " 1   Market_caps  2161 non-null   int64         \n",
      " 2   Volume       2161 non-null   int64         \n",
      " 3   Date         2161 non-null   datetime64[ns]\n",
      "dtypes: datetime64[ns](1), int64(3)\n",
      "memory usage: 67.7 KB\n"
     ]
    }
   ],
   "source": [
    "df.info()"
   ]
  },
  {
   "cell_type": "code",
   "execution_count": 13,
   "metadata": {},
   "outputs": [],
   "source": [
    "df.to_csv('./Data/BTCUSD.csv')"
   ]
  }
 ],
 "metadata": {
  "kernelspec": {
   "display_name": "soyhenry",
   "language": "python",
   "name": "python3"
  },
  "language_info": {
   "codemirror_mode": {
    "name": "ipython",
    "version": 3
   },
   "file_extension": ".py",
   "mimetype": "text/x-python",
   "name": "python",
   "nbconvert_exporter": "python",
   "pygments_lexer": "ipython3",
   "version": "3.8.13"
  },
  "orig_nbformat": 4
 },
 "nbformat": 4,
 "nbformat_minor": 2
}
