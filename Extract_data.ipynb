{
 "cells": [
  {
   "cell_type": "code",
   "execution_count": 119,
   "metadata": {},
   "outputs": [],
   "source": [
    "import requests\n",
    "import pandas as pd\n",
    "import json"
   ]
  },
  {
   "cell_type": "code",
   "execution_count": 2,
   "metadata": {},
   "outputs": [
    {
     "name": "stdout",
     "output_type": "stream",
     "text": [
      "['tether', 'usd-coin']\n",
      "['bitcoin', 'ethereum', 'binancecoin', 'ripple', 'staked-ether', 'cardano', 'dogecoin', 'solana', 'tron', 'polkadot']\n"
     ]
    }
   ],
   "source": [
    "# Esta funcion imprime las 10 monedas volatiles con mas capitalizacion y luego las 10 monedas estables.\n",
    "def get_top_coins():\n",
    "    stable = []\n",
    "    volatil = []\n",
    "\n",
    "    url = \"https://api.coingecko.com/api/v3/coins/markets\"\n",
    "    params = {\n",
    "        \"vs_currency\": \"usd\",\n",
    "        \"order\": \"market_cap_desc\",\n",
    "        \"per_page\": 100,\n",
    "        \"page\": 1\n",
    "    }\n",
    "\n",
    "    response = requests.get(url, params=params)\n",
    "    data = response.json()\n",
    "\n",
    "    for coin in data:\n",
    "        if coin['current_price'] > 1 or 0.99 > coin['current_price'] and len(volatil) < 10:\n",
    "            volatil.append(coin['id'])\n",
    "        elif 1.1 > coin['current_price'] > 0.97 and len(stable) < 10:\n",
    "            stable.append(coin['id'])\n",
    "        else:\n",
    "            break\n",
    "        \n",
    "    return stable,volatil\n",
    "\n",
    "stable, volatil = get_top_coins()\n",
    "print(stable)\n",
    "print(volatil)"
   ]
  },
  {
   "cell_type": "code",
   "execution_count": 27,
   "metadata": {},
   "outputs": [],
   "source": [
    "# Utiliza una lista de nombres de criptomonedas y a traves de la api de coingecko extrae la informacion de cada una de ellas para luego de un ETL guardar \n",
    "# la informacion en un archivo csv.\n",
    "def get_historical_data(coinnamelist):\n",
    "    for coin in coinnamelist:\n",
    "        url = f\"https://api.coingecko.com/api/v3/coins/{coin}/market_chart\"\n",
    "        params = {\n",
    "            'vs_currency': 'usd',\n",
    "            'days': '2160',\n",
    "            'interval': 'daily'\n",
    "        }\n",
    "    \n",
    "        response = requests.get(url, params=params)\n",
    "    \n",
    "        if response.status_code == 200:\n",
    "            data = response.json()\n",
    "            df = pd.DataFrame(data)\n",
    "            df['market_caps'] = df['market_caps'].apply(lambda x: int(x[1]))\n",
    "            df['total_volumes'] = df['total_volumes'].apply(lambda x: int(x[1]))\n",
    "            df['Date'] = df['prices'].apply(lambda x: pd.to_datetime(x[0], unit='ms'))\n",
    "            df['prices'] = df['prices'].apply(lambda x: int(x[1]))\n",
    "            df.rename(columns={'prices': 'Price_usd','total_volumes':'Volume','market_caps':'Market_cap'}, inplace=True)\n",
    "            df = df.groupby(df[\"Date\"].dt.to_period(\"M\")).tail(1)\n",
    "            df.to_csv(f'./Data/{coin}.csv',index=False)\n",
    "        else:\n",
    "            print(f\"Error al obtener los datos de {coin}:\", response.status_code)\n"
   ]
  },
  {
   "cell_type": "code",
   "execution_count": 28,
   "metadata": {},
   "outputs": [],
   "source": [
    "get_historical_data(volatil)"
   ]
  },
  {
   "cell_type": "code",
   "execution_count": 3,
   "metadata": {},
   "outputs": [
    {
     "ename": "NameError",
     "evalue": "name 'df' is not defined",
     "output_type": "error",
     "traceback": [
      "\u001b[1;31m---------------------------------------------------------------------------\u001b[0m",
      "\u001b[1;31mNameError\u001b[0m                                 Traceback (most recent call last)",
      "\u001b[1;32mc:\\Repositorios\\repositorio-henry\\Analitics_Proyect_Cryptocurrency\\Extract_data.ipynb Cell 5\u001b[0m in \u001b[0;36m<cell line: 1>\u001b[1;34m()\u001b[0m\n\u001b[1;32m----> <a href='vscode-notebook-cell:/c%3A/Repositorios/repositorio-henry/Analitics_Proyect_Cryptocurrency/Extract_data.ipynb#W4sZmlsZQ%3D%3D?line=0'>1</a>\u001b[0m df\u001b[39m.\u001b[39mhead()\n",
      "\u001b[1;31mNameError\u001b[0m: name 'df' is not defined"
     ]
    }
   ],
   "source": [
    "df.head()"
   ]
  },
  {
   "cell_type": "code",
   "execution_count": 17,
   "metadata": {},
   "outputs": [
    {
     "name": "stdout",
     "output_type": "stream",
     "text": [
      "<class 'pandas.core.frame.DataFrame'>\n",
      "RangeIndex: 2161 entries, 0 to 2160\n",
      "Data columns (total 4 columns):\n",
      " #   Column       Non-Null Count  Dtype         \n",
      "---  ------       --------------  -----         \n",
      " 0   Prices_usd   2161 non-null   int64         \n",
      " 1   Market_caps  2161 non-null   int64         \n",
      " 2   Volume       2161 non-null   int64         \n",
      " 3   Date         2161 non-null   datetime64[ns]\n",
      "dtypes: datetime64[ns](1), int64(3)\n",
      "memory usage: 67.7 KB\n"
     ]
    }
   ],
   "source": [
    "df.info()"
   ]
  },
  {
   "cell_type": "code",
   "execution_count": 103,
   "metadata": {},
   "outputs": [],
   "source": [
    "url = 'https://api.coingecko.com/api/v3/global'\n",
    "response = requests.get(url)\n",
    "if response.status_code == 200:\n",
    "    data = response.json()"
   ]
  },
  {
   "cell_type": "code",
   "execution_count": 104,
   "metadata": {},
   "outputs": [
    {
     "data": {
      "text/plain": [
       "{'data': {'active_cryptocurrencies': 10141,\n",
       "  'upcoming_icos': 0,\n",
       "  'ongoing_icos': 49,\n",
       "  'ended_icos': 3376,\n",
       "  'markets': 832,\n",
       "  'total_market_cap': {'btc': 41826617.512654126,\n",
       "   'eth': 666146378.5758387,\n",
       "   'ltc': 16767600760.767443,\n",
       "   'bch': 5819976931.995338,\n",
       "   'bnb': 5102289699.125557,\n",
       "   'eos': 1877271409650.8564,\n",
       "   'xrp': 2083482612313.4902,\n",
       "   'xlm': 8981386714414.314,\n",
       "   'link': 177061633538.24048,\n",
       "   'dot': 246721251014.45306,\n",
       "   'yfi': 195197410.04602554,\n",
       "   'usd': 1089245904598.5288,\n",
       "   'aed': 4000838331197.057,\n",
       "   'ars': 381194784189701.0,\n",
       "   'aud': 1690771062954.0193,\n",
       "   'bdt': 118999083561517.8,\n",
       "   'bhd': 410680561902.5926,\n",
       "   'bmd': 1089245904598.5288,\n",
       "   'brl': 5379023050678.895,\n",
       "   'cad': 1474965307351.3408,\n",
       "   'chf': 958814153752.3783,\n",
       "   'clp': 947153776343650.6,\n",
       "   'cny': 7838758152443.305,\n",
       "   'czk': 24159800937766.754,\n",
       "   'dkk': 7479276505040.448,\n",
       "   'eur': 1003500466988.5336,\n",
       "   'gbp': 854950199765.2914,\n",
       "   'hkd': 8537316603718.168,\n",
       "   'huf': 384070629744202.0,\n",
       "   'idr': 1.6695429053903872e+16,\n",
       "   'ils': 4129412917775.8667,\n",
       "   'inr': 90461334289430.77,\n",
       "   'jpy': 158684066496675.3,\n",
       "   'krw': 1456814431656914.8,\n",
       "   'kwd': 335751336125.2596,\n",
       "   'lkr': 354440402774917.94,\n",
       "   'mmk': 2287457014368955.5,\n",
       "   'mxn': 18409629326800.82,\n",
       "   'myr': 5068261194096.938,\n",
       "   'ngn': 831366936684827.1,\n",
       "   'nok': 11547319130059.467,\n",
       "   'nzd': 1828380944311.477,\n",
       "   'php': 61471593715263.77,\n",
       "   'pkr': 324050656618062.3,\n",
       "   'pln': 4482852518145.91,\n",
       "   'rub': 102933747787774.03,\n",
       "   'sar': 4085905168608.489,\n",
       "   'sek': 11886287009340.992,\n",
       "   'sgd': 1477698225325.9792,\n",
       "   'thb': 38036462631597.016,\n",
       "   'try': 29628360001803.664,\n",
       "   'twd': 34785286901780.836,\n",
       "   'uah': 40238813283088.41,\n",
       "   'vef': 109066192427.45074,\n",
       "   'vnd': 2.594370110300879e+16,\n",
       "   'zar': 20439371536774.094,\n",
       "   'xdr': 819006174159.4441,\n",
       "   'xag': 46358381946.92666,\n",
       "   'xau': 572921560.9007322,\n",
       "   'bits': 41826617512654.125,\n",
       "   'sats': 4182661751265412.5},\n",
       "  'total_volume': {'btc': 1635031.9715388776,\n",
       "   'eth': 26040131.654605396,\n",
       "   'ltc': 655457336.9830859,\n",
       "   'bch': 227507002.07953042,\n",
       "   'bnb': 199452102.08786005,\n",
       "   'eos': 73383863113.15753,\n",
       "   'xrp': 81444804429.79364,\n",
       "   'xlm': 351088739661.5133,\n",
       "   'link': 6921464105.4906845,\n",
       "   'dot': 9644507671.332893,\n",
       "   'yfi': 7630404.397158813,\n",
       "   'usd': 42579390464.63835,\n",
       "   'aed': 156395591455.28293,\n",
       "   'ars': 14901172903724.822,\n",
       "   'aud': 66093433054.8302,\n",
       "   'bdt': 4651758085578.978,\n",
       "   'bhd': 16053792745.663532,\n",
       "   'bmd': 42579390464.63835,\n",
       "   'brl': 210269803931.5228,\n",
       "   'cad': 57657433898.41421,\n",
       "   'chf': 37480721353.45025,\n",
       "   'clp': 37024908978526.28,\n",
       "   'cny': 306422583478.76965,\n",
       "   'czk': 944423654322.8184,\n",
       "   'dkk': 292370192402.50543,\n",
       "   'eur': 39227540847.26206,\n",
       "   'gbp': 33420606155.085167,\n",
       "   'hkd': 333729725909.7237,\n",
       "   'huf': 15013591734279.182,\n",
       "   'idr': 652636094071756.2,\n",
       "   'ils': 161421662705.72882,\n",
       "   'inr': 3536197343869.319,\n",
       "   'jpy': 6203072051364.683,\n",
       "   'krw': 56947903368893.48,\n",
       "   'kwd': 13124756475.60105,\n",
       "   'lkr': 13855325269053.393,\n",
       "   'mmk': 89418307633472.81,\n",
       "   'mxn': 719645391463.7635,\n",
       "   'myr': 198121903831.96167,\n",
       "   'ngn': 32498719772135.223,\n",
       "   'nok': 451392847090.67725,\n",
       "   'nzd': 71472700349.18039,\n",
       "   'php': 2402967943451.252,\n",
       "   'pkr': 12667368663229.91,\n",
       "   'pln': 175237865903.08545,\n",
       "   'rub': 4023752782122.8354,\n",
       "   'sar': 159720914112.3998,\n",
       "   'sek': 464643340506.3199,\n",
       "   'sgd': 57764265589.09001,\n",
       "   'thb': 1486872144707.6099,\n",
       "   'try': 1158193484150.535,\n",
       "   'twd': 1359781392945.709,\n",
       "   'uah': 1572963584605.624,\n",
       "   'vef': 4263474367.2242403,\n",
       "   'vnd': 1014157569653691.0,\n",
       "   'zar': 798989445672.4082,\n",
       "   'xdr': 32015528849.14255,\n",
       "   'xag': 1812181838.732339,\n",
       "   'xau': 22395907.796590406,\n",
       "   'bits': 1635031971538.8777,\n",
       "   'sats': 163503197153887.75},\n",
       "  'market_cap_percentage': {'btc': 46.53812848746616,\n",
       "   'eth': 18.0396771359547,\n",
       "   'usdt': 7.604026727912556,\n",
       "   'bnb': 3.0148163469577596,\n",
       "   'xrp': 2.534241180009563,\n",
       "   'usdc': 2.3811588934123282,\n",
       "   'steth': 1.2485517670249773,\n",
       "   'ada': 0.8329442650158293,\n",
       "   'doge': 0.8117283288129755,\n",
       "   'sol': 0.7731499445794778},\n",
       "  'market_cap_change_percentage_24h_usd': -0.3157398105104969,\n",
       "  'updated_at': 1692759917}}"
      ]
     },
     "execution_count": 104,
     "metadata": {},
     "output_type": "execute_result"
    }
   ],
   "source": [
    "data"
   ]
  },
  {
   "cell_type": "code",
   "execution_count": 105,
   "metadata": {},
   "outputs": [
    {
     "data": {
      "text/html": [
       "<div>\n",
       "<style scoped>\n",
       "    .dataframe tbody tr th:only-of-type {\n",
       "        vertical-align: middle;\n",
       "    }\n",
       "\n",
       "    .dataframe tbody tr th {\n",
       "        vertical-align: top;\n",
       "    }\n",
       "\n",
       "    .dataframe thead th {\n",
       "        text-align: right;\n",
       "    }\n",
       "</style>\n",
       "<table border=\"1\" class=\"dataframe\">\n",
       "  <thead>\n",
       "    <tr style=\"text-align: right;\">\n",
       "      <th></th>\n",
       "      <th>active_cryptocurrencies</th>\n",
       "      <th>upcoming_icos</th>\n",
       "      <th>ongoing_icos</th>\n",
       "      <th>ended_icos</th>\n",
       "      <th>markets</th>\n",
       "      <th>total_market_cap</th>\n",
       "      <th>total_volume</th>\n",
       "      <th>market_cap_percentage</th>\n",
       "      <th>market_cap_change_percentage_24h_usd</th>\n",
       "      <th>updated_at</th>\n",
       "    </tr>\n",
       "  </thead>\n",
       "  <tbody>\n",
       "    <tr>\n",
       "      <th>btc</th>\n",
       "      <td>10141</td>\n",
       "      <td>0</td>\n",
       "      <td>49</td>\n",
       "      <td>3376</td>\n",
       "      <td>832</td>\n",
       "      <td>4.182662e+07</td>\n",
       "      <td>1.635032e+06</td>\n",
       "      <td>46.538128</td>\n",
       "      <td>-0.31574</td>\n",
       "      <td>1692759917</td>\n",
       "    </tr>\n",
       "    <tr>\n",
       "      <th>eth</th>\n",
       "      <td>10141</td>\n",
       "      <td>0</td>\n",
       "      <td>49</td>\n",
       "      <td>3376</td>\n",
       "      <td>832</td>\n",
       "      <td>6.661464e+08</td>\n",
       "      <td>2.604013e+07</td>\n",
       "      <td>18.039677</td>\n",
       "      <td>-0.31574</td>\n",
       "      <td>1692759917</td>\n",
       "    </tr>\n",
       "    <tr>\n",
       "      <th>ltc</th>\n",
       "      <td>10141</td>\n",
       "      <td>0</td>\n",
       "      <td>49</td>\n",
       "      <td>3376</td>\n",
       "      <td>832</td>\n",
       "      <td>1.676760e+10</td>\n",
       "      <td>6.554573e+08</td>\n",
       "      <td>NaN</td>\n",
       "      <td>-0.31574</td>\n",
       "      <td>1692759917</td>\n",
       "    </tr>\n",
       "    <tr>\n",
       "      <th>bch</th>\n",
       "      <td>10141</td>\n",
       "      <td>0</td>\n",
       "      <td>49</td>\n",
       "      <td>3376</td>\n",
       "      <td>832</td>\n",
       "      <td>5.819977e+09</td>\n",
       "      <td>2.275070e+08</td>\n",
       "      <td>NaN</td>\n",
       "      <td>-0.31574</td>\n",
       "      <td>1692759917</td>\n",
       "    </tr>\n",
       "    <tr>\n",
       "      <th>bnb</th>\n",
       "      <td>10141</td>\n",
       "      <td>0</td>\n",
       "      <td>49</td>\n",
       "      <td>3376</td>\n",
       "      <td>832</td>\n",
       "      <td>5.102290e+09</td>\n",
       "      <td>1.994521e+08</td>\n",
       "      <td>3.014816</td>\n",
       "      <td>-0.31574</td>\n",
       "      <td>1692759917</td>\n",
       "    </tr>\n",
       "  </tbody>\n",
       "</table>\n",
       "</div>"
      ],
      "text/plain": [
       "     active_cryptocurrencies  upcoming_icos  ongoing_icos  ended_icos  \\\n",
       "btc                    10141              0            49        3376   \n",
       "eth                    10141              0            49        3376   \n",
       "ltc                    10141              0            49        3376   \n",
       "bch                    10141              0            49        3376   \n",
       "bnb                    10141              0            49        3376   \n",
       "\n",
       "     markets  total_market_cap  total_volume  market_cap_percentage  \\\n",
       "btc      832      4.182662e+07  1.635032e+06              46.538128   \n",
       "eth      832      6.661464e+08  2.604013e+07              18.039677   \n",
       "ltc      832      1.676760e+10  6.554573e+08                    NaN   \n",
       "bch      832      5.819977e+09  2.275070e+08                    NaN   \n",
       "bnb      832      5.102290e+09  1.994521e+08               3.014816   \n",
       "\n",
       "     market_cap_change_percentage_24h_usd  updated_at  \n",
       "btc                              -0.31574  1692759917  \n",
       "eth                              -0.31574  1692759917  \n",
       "ltc                              -0.31574  1692759917  \n",
       "bch                              -0.31574  1692759917  \n",
       "bnb                              -0.31574  1692759917  "
      ]
     },
     "execution_count": 105,
     "metadata": {},
     "output_type": "execute_result"
    }
   ],
   "source": [
    "data = data['data']\n",
    "df_global = pd.DataFrame(data)\n",
    "df_global.head()"
   ]
  },
  {
   "cell_type": "code",
   "execution_count": 106,
   "metadata": {},
   "outputs": [
    {
     "name": "stdout",
     "output_type": "stream",
     "text": [
      "<class 'pandas.core.frame.DataFrame'>\n",
      "Index: 67 entries, btc to sol\n",
      "Data columns (total 10 columns):\n",
      " #   Column                                Non-Null Count  Dtype  \n",
      "---  ------                                --------------  -----  \n",
      " 0   active_cryptocurrencies               67 non-null     int64  \n",
      " 1   upcoming_icos                         67 non-null     int64  \n",
      " 2   ongoing_icos                          67 non-null     int64  \n",
      " 3   ended_icos                            67 non-null     int64  \n",
      " 4   markets                               67 non-null     int64  \n",
      " 5   total_market_cap                      61 non-null     float64\n",
      " 6   total_volume                          61 non-null     float64\n",
      " 7   market_cap_percentage                 10 non-null     float64\n",
      " 8   market_cap_change_percentage_24h_usd  67 non-null     float64\n",
      " 9   updated_at                            67 non-null     int64  \n",
      "dtypes: float64(4), int64(6)\n",
      "memory usage: 5.8+ KB\n"
     ]
    }
   ],
   "source": [
    "df_global.info()"
   ]
  },
  {
   "cell_type": "code",
   "execution_count": 107,
   "metadata": {},
   "outputs": [
    {
     "data": {
      "text/plain": [
       "83.77842307714631"
      ]
     },
     "execution_count": 107,
     "metadata": {},
     "output_type": "execute_result"
    }
   ],
   "source": [
    "df_global['market_cap_percentage'].sum()"
   ]
  },
  {
   "cell_type": "code",
   "execution_count": 32,
   "metadata": {},
   "outputs": [],
   "source": [
    "df_global['updated_at'] = df_global['updated_at'].apply(lambda x: pd.to_datetime(x, unit='s'))"
   ]
  },
  {
   "cell_type": "code",
   "execution_count": 33,
   "metadata": {},
   "outputs": [
    {
     "data": {
      "text/html": [
       "<div>\n",
       "<style scoped>\n",
       "    .dataframe tbody tr th:only-of-type {\n",
       "        vertical-align: middle;\n",
       "    }\n",
       "\n",
       "    .dataframe tbody tr th {\n",
       "        vertical-align: top;\n",
       "    }\n",
       "\n",
       "    .dataframe thead th {\n",
       "        text-align: right;\n",
       "    }\n",
       "</style>\n",
       "<table border=\"1\" class=\"dataframe\">\n",
       "  <thead>\n",
       "    <tr style=\"text-align: right;\">\n",
       "      <th></th>\n",
       "      <th>active_cryptocurrencies</th>\n",
       "      <th>upcoming_icos</th>\n",
       "      <th>ongoing_icos</th>\n",
       "      <th>ended_icos</th>\n",
       "      <th>markets</th>\n",
       "      <th>total_market_cap</th>\n",
       "      <th>total_volume</th>\n",
       "      <th>market_cap_percentage</th>\n",
       "      <th>market_cap_change_percentage_24h_usd</th>\n",
       "      <th>updated_at</th>\n",
       "    </tr>\n",
       "  </thead>\n",
       "  <tbody>\n",
       "    <tr>\n",
       "      <th>btc</th>\n",
       "      <td>10135</td>\n",
       "      <td>0</td>\n",
       "      <td>49</td>\n",
       "      <td>3376</td>\n",
       "      <td>832</td>\n",
       "      <td>4.180181e+07</td>\n",
       "      <td>1.598513e+06</td>\n",
       "      <td>46.565582</td>\n",
       "      <td>-0.586926</td>\n",
       "      <td>2023-08-23 01:04:55</td>\n",
       "    </tr>\n",
       "    <tr>\n",
       "      <th>eth</th>\n",
       "      <td>10135</td>\n",
       "      <td>0</td>\n",
       "      <td>49</td>\n",
       "      <td>3376</td>\n",
       "      <td>832</td>\n",
       "      <td>6.665769e+08</td>\n",
       "      <td>2.549009e+07</td>\n",
       "      <td>18.032160</td>\n",
       "      <td>-0.586926</td>\n",
       "      <td>2023-08-23 01:04:55</td>\n",
       "    </tr>\n",
       "    <tr>\n",
       "      <th>ltc</th>\n",
       "      <td>10135</td>\n",
       "      <td>0</td>\n",
       "      <td>49</td>\n",
       "      <td>3376</td>\n",
       "      <td>832</td>\n",
       "      <td>1.680649e+10</td>\n",
       "      <td>6.426848e+08</td>\n",
       "      <td>NaN</td>\n",
       "      <td>-0.586926</td>\n",
       "      <td>2023-08-23 01:04:55</td>\n",
       "    </tr>\n",
       "    <tr>\n",
       "      <th>bch</th>\n",
       "      <td>10135</td>\n",
       "      <td>0</td>\n",
       "      <td>49</td>\n",
       "      <td>3376</td>\n",
       "      <td>832</td>\n",
       "      <td>5.825016e+09</td>\n",
       "      <td>2.227503e+08</td>\n",
       "      <td>NaN</td>\n",
       "      <td>-0.586926</td>\n",
       "      <td>2023-08-23 01:04:55</td>\n",
       "    </tr>\n",
       "    <tr>\n",
       "      <th>bnb</th>\n",
       "      <td>10135</td>\n",
       "      <td>0</td>\n",
       "      <td>49</td>\n",
       "      <td>3376</td>\n",
       "      <td>832</td>\n",
       "      <td>5.086336e+09</td>\n",
       "      <td>1.945029e+08</td>\n",
       "      <td>3.020624</td>\n",
       "      <td>-0.586926</td>\n",
       "      <td>2023-08-23 01:04:55</td>\n",
       "    </tr>\n",
       "  </tbody>\n",
       "</table>\n",
       "</div>"
      ],
      "text/plain": [
       "     active_cryptocurrencies  upcoming_icos  ongoing_icos  ended_icos  \\\n",
       "btc                    10135              0            49        3376   \n",
       "eth                    10135              0            49        3376   \n",
       "ltc                    10135              0            49        3376   \n",
       "bch                    10135              0            49        3376   \n",
       "bnb                    10135              0            49        3376   \n",
       "\n",
       "     markets  total_market_cap  total_volume  market_cap_percentage  \\\n",
       "btc      832      4.180181e+07  1.598513e+06              46.565582   \n",
       "eth      832      6.665769e+08  2.549009e+07              18.032160   \n",
       "ltc      832      1.680649e+10  6.426848e+08                    NaN   \n",
       "bch      832      5.825016e+09  2.227503e+08                    NaN   \n",
       "bnb      832      5.086336e+09  1.945029e+08               3.020624   \n",
       "\n",
       "     market_cap_change_percentage_24h_usd          updated_at  \n",
       "btc                             -0.586926 2023-08-23 01:04:55  \n",
       "eth                             -0.586926 2023-08-23 01:04:55  \n",
       "ltc                             -0.586926 2023-08-23 01:04:55  \n",
       "bch                             -0.586926 2023-08-23 01:04:55  \n",
       "bnb                             -0.586926 2023-08-23 01:04:55  "
      ]
     },
     "execution_count": 33,
     "metadata": {},
     "output_type": "execute_result"
    }
   ],
   "source": [
    "df_global.head()"
   ]
  },
  {
   "cell_type": "code",
   "execution_count": 42,
   "metadata": {},
   "outputs": [],
   "source": [
    "delete_columns = []"
   ]
  },
  {
   "cell_type": "code",
   "execution_count": 35,
   "metadata": {},
   "outputs": [
    {
     "data": {
      "text/plain": [
       "array([10135], dtype=int64)"
      ]
     },
     "execution_count": 35,
     "metadata": {},
     "output_type": "execute_result"
    }
   ],
   "source": [
    "df_global['active_cryptocurrencies'].unique()"
   ]
  },
  {
   "cell_type": "code",
   "execution_count": 43,
   "metadata": {},
   "outputs": [],
   "source": [
    "delete_columns.append('active_cryptocurrencies')"
   ]
  },
  {
   "cell_type": "code",
   "execution_count": 36,
   "metadata": {},
   "outputs": [
    {
     "data": {
      "text/plain": [
       "array([0], dtype=int64)"
      ]
     },
     "execution_count": 36,
     "metadata": {},
     "output_type": "execute_result"
    }
   ],
   "source": [
    "df_global['upcoming_icos'].unique()"
   ]
  },
  {
   "cell_type": "code",
   "execution_count": 44,
   "metadata": {},
   "outputs": [],
   "source": [
    "delete_columns.append('upcoming_icos')"
   ]
  },
  {
   "cell_type": "code",
   "execution_count": 37,
   "metadata": {},
   "outputs": [
    {
     "data": {
      "text/plain": [
       "array([49], dtype=int64)"
      ]
     },
     "execution_count": 37,
     "metadata": {},
     "output_type": "execute_result"
    }
   ],
   "source": [
    "df_global['ongoing_icos'].unique()"
   ]
  },
  {
   "cell_type": "code",
   "execution_count": 45,
   "metadata": {},
   "outputs": [],
   "source": [
    "delete_columns.append('ongoing_icos')"
   ]
  },
  {
   "cell_type": "code",
   "execution_count": 38,
   "metadata": {},
   "outputs": [
    {
     "data": {
      "text/plain": [
       "array([3376], dtype=int64)"
      ]
     },
     "execution_count": 38,
     "metadata": {},
     "output_type": "execute_result"
    }
   ],
   "source": [
    "df_global['ended_icos'].unique()"
   ]
  },
  {
   "cell_type": "code",
   "execution_count": 46,
   "metadata": {},
   "outputs": [],
   "source": [
    "delete_columns.append('ended_icos')"
   ]
  },
  {
   "cell_type": "code",
   "execution_count": 39,
   "metadata": {},
   "outputs": [
    {
     "data": {
      "text/plain": [
       "array([832], dtype=int64)"
      ]
     },
     "execution_count": 39,
     "metadata": {},
     "output_type": "execute_result"
    }
   ],
   "source": [
    "df_global['markets'].unique()"
   ]
  },
  {
   "cell_type": "code",
   "execution_count": 47,
   "metadata": {},
   "outputs": [],
   "source": [
    "delete_columns.append('markets')"
   ]
  },
  {
   "cell_type": "code",
   "execution_count": 40,
   "metadata": {},
   "outputs": [
    {
     "data": {
      "text/plain": [
       "array([-0.58692601])"
      ]
     },
     "execution_count": 40,
     "metadata": {},
     "output_type": "execute_result"
    }
   ],
   "source": [
    "df_global['market_cap_change_percentage_24h_usd'].unique()"
   ]
  },
  {
   "cell_type": "code",
   "execution_count": 48,
   "metadata": {},
   "outputs": [],
   "source": [
    "delete_columns.append('market_cap_change_percentage_24h_usd')"
   ]
  },
  {
   "cell_type": "code",
   "execution_count": 41,
   "metadata": {},
   "outputs": [
    {
     "data": {
      "text/plain": [
       "array(['2023-08-23T01:04:55.000000000'], dtype='datetime64[ns]')"
      ]
     },
     "execution_count": 41,
     "metadata": {},
     "output_type": "execute_result"
    }
   ],
   "source": [
    "df_global['updated_at'].unique()"
   ]
  },
  {
   "cell_type": "code",
   "execution_count": 49,
   "metadata": {},
   "outputs": [],
   "source": [
    "delete_columns.append('updated_at')"
   ]
  },
  {
   "cell_type": "code",
   "execution_count": 50,
   "metadata": {},
   "outputs": [],
   "source": [
    "df_global.drop(delete_columns,axis=1,inplace=True)"
   ]
  },
  {
   "cell_type": "code",
   "execution_count": 51,
   "metadata": {},
   "outputs": [
    {
     "data": {
      "text/html": [
       "<div>\n",
       "<style scoped>\n",
       "    .dataframe tbody tr th:only-of-type {\n",
       "        vertical-align: middle;\n",
       "    }\n",
       "\n",
       "    .dataframe tbody tr th {\n",
       "        vertical-align: top;\n",
       "    }\n",
       "\n",
       "    .dataframe thead th {\n",
       "        text-align: right;\n",
       "    }\n",
       "</style>\n",
       "<table border=\"1\" class=\"dataframe\">\n",
       "  <thead>\n",
       "    <tr style=\"text-align: right;\">\n",
       "      <th></th>\n",
       "      <th>total_market_cap</th>\n",
       "      <th>total_volume</th>\n",
       "      <th>market_cap_percentage</th>\n",
       "    </tr>\n",
       "  </thead>\n",
       "  <tbody>\n",
       "    <tr>\n",
       "      <th>btc</th>\n",
       "      <td>4.180181e+07</td>\n",
       "      <td>1.598513e+06</td>\n",
       "      <td>46.565582</td>\n",
       "    </tr>\n",
       "    <tr>\n",
       "      <th>eth</th>\n",
       "      <td>6.665769e+08</td>\n",
       "      <td>2.549009e+07</td>\n",
       "      <td>18.032160</td>\n",
       "    </tr>\n",
       "    <tr>\n",
       "      <th>ltc</th>\n",
       "      <td>1.680649e+10</td>\n",
       "      <td>6.426848e+08</td>\n",
       "      <td>NaN</td>\n",
       "    </tr>\n",
       "    <tr>\n",
       "      <th>bch</th>\n",
       "      <td>5.825016e+09</td>\n",
       "      <td>2.227503e+08</td>\n",
       "      <td>NaN</td>\n",
       "    </tr>\n",
       "    <tr>\n",
       "      <th>bnb</th>\n",
       "      <td>5.086336e+09</td>\n",
       "      <td>1.945029e+08</td>\n",
       "      <td>3.020624</td>\n",
       "    </tr>\n",
       "  </tbody>\n",
       "</table>\n",
       "</div>"
      ],
      "text/plain": [
       "     total_market_cap  total_volume  market_cap_percentage\n",
       "btc      4.180181e+07  1.598513e+06              46.565582\n",
       "eth      6.665769e+08  2.549009e+07              18.032160\n",
       "ltc      1.680649e+10  6.426848e+08                    NaN\n",
       "bch      5.825016e+09  2.227503e+08                    NaN\n",
       "bnb      5.086336e+09  1.945029e+08               3.020624"
      ]
     },
     "execution_count": 51,
     "metadata": {},
     "output_type": "execute_result"
    }
   ],
   "source": [
    "df_global.head()"
   ]
  },
  {
   "cell_type": "code",
   "execution_count": 55,
   "metadata": {},
   "outputs": [],
   "source": [
    "df_global = df_global.sort_values(by='market_cap_percentage', ascending=False)"
   ]
  },
  {
   "cell_type": "code",
   "execution_count": 58,
   "metadata": {},
   "outputs": [
    {
     "data": {
      "text/html": [
       "<div>\n",
       "<style scoped>\n",
       "    .dataframe tbody tr th:only-of-type {\n",
       "        vertical-align: middle;\n",
       "    }\n",
       "\n",
       "    .dataframe tbody tr th {\n",
       "        vertical-align: top;\n",
       "    }\n",
       "\n",
       "    .dataframe thead th {\n",
       "        text-align: right;\n",
       "    }\n",
       "</style>\n",
       "<table border=\"1\" class=\"dataframe\">\n",
       "  <thead>\n",
       "    <tr style=\"text-align: right;\">\n",
       "      <th></th>\n",
       "      <th>total_market_cap</th>\n",
       "      <th>total_volume</th>\n",
       "      <th>market_cap_percentage</th>\n",
       "    </tr>\n",
       "  </thead>\n",
       "  <tbody>\n",
       "    <tr>\n",
       "      <th>btc</th>\n",
       "      <td>4.180181e+07</td>\n",
       "      <td>1.598513e+06</td>\n",
       "      <td>46.565582</td>\n",
       "    </tr>\n",
       "    <tr>\n",
       "      <th>eth</th>\n",
       "      <td>6.665769e+08</td>\n",
       "      <td>2.549009e+07</td>\n",
       "      <td>18.032160</td>\n",
       "    </tr>\n",
       "    <tr>\n",
       "      <th>usdt</th>\n",
       "      <td>0.000000e+00</td>\n",
       "      <td>0.000000e+00</td>\n",
       "      <td>7.603567</td>\n",
       "    </tr>\n",
       "    <tr>\n",
       "      <th>bnb</th>\n",
       "      <td>5.086336e+09</td>\n",
       "      <td>1.945029e+08</td>\n",
       "      <td>3.020624</td>\n",
       "    </tr>\n",
       "    <tr>\n",
       "      <th>xrp</th>\n",
       "      <td>2.095904e+12</td>\n",
       "      <td>8.014796e+10</td>\n",
       "      <td>2.520860</td>\n",
       "    </tr>\n",
       "    <tr>\n",
       "      <th>...</th>\n",
       "      <td>...</td>\n",
       "      <td>...</td>\n",
       "      <td>...</td>\n",
       "    </tr>\n",
       "    <tr>\n",
       "      <th>xdr</th>\n",
       "      <td>8.181760e+11</td>\n",
       "      <td>3.128728e+10</td>\n",
       "      <td>0.000000</td>\n",
       "    </tr>\n",
       "    <tr>\n",
       "      <th>xag</th>\n",
       "      <td>4.642986e+10</td>\n",
       "      <td>1.775491e+09</td>\n",
       "      <td>0.000000</td>\n",
       "    </tr>\n",
       "    <tr>\n",
       "      <th>xau</th>\n",
       "      <td>5.730264e+08</td>\n",
       "      <td>2.191269e+07</td>\n",
       "      <td>0.000000</td>\n",
       "    </tr>\n",
       "    <tr>\n",
       "      <th>bits</th>\n",
       "      <td>4.180181e+13</td>\n",
       "      <td>1.598513e+12</td>\n",
       "      <td>0.000000</td>\n",
       "    </tr>\n",
       "    <tr>\n",
       "      <th>sats</th>\n",
       "      <td>4.180181e+15</td>\n",
       "      <td>1.598513e+14</td>\n",
       "      <td>0.000000</td>\n",
       "    </tr>\n",
       "  </tbody>\n",
       "</table>\n",
       "<p>67 rows × 3 columns</p>\n",
       "</div>"
      ],
      "text/plain": [
       "      total_market_cap  total_volume  market_cap_percentage\n",
       "btc       4.180181e+07  1.598513e+06              46.565582\n",
       "eth       6.665769e+08  2.549009e+07              18.032160\n",
       "usdt      0.000000e+00  0.000000e+00               7.603567\n",
       "bnb       5.086336e+09  1.945029e+08               3.020624\n",
       "xrp       2.095904e+12  8.014796e+10               2.520860\n",
       "...                ...           ...                    ...\n",
       "xdr       8.181760e+11  3.128728e+10               0.000000\n",
       "xag       4.642986e+10  1.775491e+09               0.000000\n",
       "xau       5.730264e+08  2.191269e+07               0.000000\n",
       "bits      4.180181e+13  1.598513e+12               0.000000\n",
       "sats      4.180181e+15  1.598513e+14               0.000000\n",
       "\n",
       "[67 rows x 3 columns]"
      ]
     },
     "execution_count": 58,
     "metadata": {},
     "output_type": "execute_result"
    }
   ],
   "source": [
    "df_global.fillna(0)"
   ]
  },
  {
   "cell_type": "code",
   "execution_count": 60,
   "metadata": {},
   "outputs": [
    {
     "data": {
      "text/html": [
       "<div>\n",
       "<style scoped>\n",
       "    .dataframe tbody tr th:only-of-type {\n",
       "        vertical-align: middle;\n",
       "    }\n",
       "\n",
       "    .dataframe tbody tr th {\n",
       "        vertical-align: top;\n",
       "    }\n",
       "\n",
       "    .dataframe thead th {\n",
       "        text-align: right;\n",
       "    }\n",
       "</style>\n",
       "<table border=\"1\" class=\"dataframe\">\n",
       "  <thead>\n",
       "    <tr style=\"text-align: right;\">\n",
       "      <th></th>\n",
       "      <th>total_market_cap</th>\n",
       "      <th>total_volume</th>\n",
       "      <th>market_cap_percentage</th>\n",
       "    </tr>\n",
       "  </thead>\n",
       "  <tbody>\n",
       "    <tr>\n",
       "      <th>btc</th>\n",
       "      <td>4.180181e+07</td>\n",
       "      <td>1.598513e+06</td>\n",
       "      <td>46.565582</td>\n",
       "    </tr>\n",
       "    <tr>\n",
       "      <th>eth</th>\n",
       "      <td>6.665769e+08</td>\n",
       "      <td>2.549009e+07</td>\n",
       "      <td>18.032160</td>\n",
       "    </tr>\n",
       "    <tr>\n",
       "      <th>usdt</th>\n",
       "      <td>NaN</td>\n",
       "      <td>NaN</td>\n",
       "      <td>7.603567</td>\n",
       "    </tr>\n",
       "    <tr>\n",
       "      <th>bnb</th>\n",
       "      <td>5.086336e+09</td>\n",
       "      <td>1.945029e+08</td>\n",
       "      <td>3.020624</td>\n",
       "    </tr>\n",
       "    <tr>\n",
       "      <th>xrp</th>\n",
       "      <td>2.095904e+12</td>\n",
       "      <td>8.014796e+10</td>\n",
       "      <td>2.520860</td>\n",
       "    </tr>\n",
       "    <tr>\n",
       "      <th>usdc</th>\n",
       "      <td>NaN</td>\n",
       "      <td>NaN</td>\n",
       "      <td>2.383672</td>\n",
       "    </tr>\n",
       "    <tr>\n",
       "      <th>steth</th>\n",
       "      <td>NaN</td>\n",
       "      <td>NaN</td>\n",
       "      <td>1.248294</td>\n",
       "    </tr>\n",
       "    <tr>\n",
       "      <th>ada</th>\n",
       "      <td>NaN</td>\n",
       "      <td>NaN</td>\n",
       "      <td>0.833110</td>\n",
       "    </tr>\n",
       "    <tr>\n",
       "      <th>doge</th>\n",
       "      <td>NaN</td>\n",
       "      <td>NaN</td>\n",
       "      <td>0.812008</td>\n",
       "    </tr>\n",
       "    <tr>\n",
       "      <th>sol</th>\n",
       "      <td>NaN</td>\n",
       "      <td>NaN</td>\n",
       "      <td>0.768930</td>\n",
       "    </tr>\n",
       "  </tbody>\n",
       "</table>\n",
       "</div>"
      ],
      "text/plain": [
       "       total_market_cap  total_volume  market_cap_percentage\n",
       "btc        4.180181e+07  1.598513e+06              46.565582\n",
       "eth        6.665769e+08  2.549009e+07              18.032160\n",
       "usdt                NaN           NaN               7.603567\n",
       "bnb        5.086336e+09  1.945029e+08               3.020624\n",
       "xrp        2.095904e+12  8.014796e+10               2.520860\n",
       "usdc                NaN           NaN               2.383672\n",
       "steth               NaN           NaN               1.248294\n",
       "ada                 NaN           NaN               0.833110\n",
       "doge                NaN           NaN               0.812008\n",
       "sol                 NaN           NaN               0.768930"
      ]
     },
     "execution_count": 60,
     "metadata": {},
     "output_type": "execute_result"
    }
   ],
   "source": [
    "df_global.head(10)"
   ]
  },
  {
   "cell_type": "code",
   "execution_count": 61,
   "metadata": {},
   "outputs": [
    {
     "ename": "IntCastingNaNError",
     "evalue": "Cannot convert non-finite values (NA or inf) to integer",
     "output_type": "error",
     "traceback": [
      "\u001b[1;31m---------------------------------------------------------------------------\u001b[0m",
      "\u001b[1;31mIntCastingNaNError\u001b[0m                        Traceback (most recent call last)",
      "\u001b[1;32mc:\\Repositorios\\repositorio-henry\\Analitics_Proyect_Cryptocurrency\\Extract_data.ipynb Cell 34\u001b[0m in \u001b[0;36m<cell line: 1>\u001b[1;34m()\u001b[0m\n\u001b[1;32m----> <a href='vscode-notebook-cell:/c%3A/Repositorios/repositorio-henry/Analitics_Proyect_Cryptocurrency/Extract_data.ipynb#X45sZmlsZQ%3D%3D?line=0'>1</a>\u001b[0m df_global[[\u001b[39m'\u001b[39;49m\u001b[39mtotal_market_cap\u001b[39;49m\u001b[39m'\u001b[39;49m,\u001b[39m'\u001b[39;49m\u001b[39mtotal_volume\u001b[39;49m\u001b[39m'\u001b[39;49m]]\u001b[39m.\u001b[39;49mastype(\u001b[39mint\u001b[39;49m)\n",
      "File \u001b[1;32mc:\\Users\\guill\\anaconda3\\envs\\soyhenry\\lib\\site-packages\\pandas\\core\\generic.py:6240\u001b[0m, in \u001b[0;36mNDFrame.astype\u001b[1;34m(self, dtype, copy, errors)\u001b[0m\n\u001b[0;32m   6233\u001b[0m     results \u001b[39m=\u001b[39m [\n\u001b[0;32m   6234\u001b[0m         \u001b[39mself\u001b[39m\u001b[39m.\u001b[39miloc[:, i]\u001b[39m.\u001b[39mastype(dtype, copy\u001b[39m=\u001b[39mcopy)\n\u001b[0;32m   6235\u001b[0m         \u001b[39mfor\u001b[39;00m i \u001b[39min\u001b[39;00m \u001b[39mrange\u001b[39m(\u001b[39mlen\u001b[39m(\u001b[39mself\u001b[39m\u001b[39m.\u001b[39mcolumns))\n\u001b[0;32m   6236\u001b[0m     ]\n\u001b[0;32m   6238\u001b[0m \u001b[39melse\u001b[39;00m:\n\u001b[0;32m   6239\u001b[0m     \u001b[39m# else, only a single dtype is given\u001b[39;00m\n\u001b[1;32m-> 6240\u001b[0m     new_data \u001b[39m=\u001b[39m \u001b[39mself\u001b[39;49m\u001b[39m.\u001b[39;49m_mgr\u001b[39m.\u001b[39;49mastype(dtype\u001b[39m=\u001b[39;49mdtype, copy\u001b[39m=\u001b[39;49mcopy, errors\u001b[39m=\u001b[39;49merrors)\n\u001b[0;32m   6241\u001b[0m     \u001b[39mreturn\u001b[39;00m \u001b[39mself\u001b[39m\u001b[39m.\u001b[39m_constructor(new_data)\u001b[39m.\u001b[39m__finalize__(\u001b[39mself\u001b[39m, method\u001b[39m=\u001b[39m\u001b[39m\"\u001b[39m\u001b[39mastype\u001b[39m\u001b[39m\"\u001b[39m)\n\u001b[0;32m   6243\u001b[0m \u001b[39m# GH 33113: handle empty frame or series\u001b[39;00m\n",
      "File \u001b[1;32mc:\\Users\\guill\\anaconda3\\envs\\soyhenry\\lib\\site-packages\\pandas\\core\\internals\\managers.py:448\u001b[0m, in \u001b[0;36mBaseBlockManager.astype\u001b[1;34m(self, dtype, copy, errors)\u001b[0m\n\u001b[0;32m    447\u001b[0m \u001b[39mdef\u001b[39;00m \u001b[39mastype\u001b[39m(\u001b[39mself\u001b[39m: T, dtype, copy: \u001b[39mbool\u001b[39m \u001b[39m=\u001b[39m \u001b[39mFalse\u001b[39;00m, errors: \u001b[39mstr\u001b[39m \u001b[39m=\u001b[39m \u001b[39m\"\u001b[39m\u001b[39mraise\u001b[39m\u001b[39m\"\u001b[39m) \u001b[39m-\u001b[39m\u001b[39m>\u001b[39m T:\n\u001b[1;32m--> 448\u001b[0m     \u001b[39mreturn\u001b[39;00m \u001b[39mself\u001b[39;49m\u001b[39m.\u001b[39;49mapply(\u001b[39m\"\u001b[39;49m\u001b[39mastype\u001b[39;49m\u001b[39m\"\u001b[39;49m, dtype\u001b[39m=\u001b[39;49mdtype, copy\u001b[39m=\u001b[39;49mcopy, errors\u001b[39m=\u001b[39;49merrors)\n",
      "File \u001b[1;32mc:\\Users\\guill\\anaconda3\\envs\\soyhenry\\lib\\site-packages\\pandas\\core\\internals\\managers.py:352\u001b[0m, in \u001b[0;36mBaseBlockManager.apply\u001b[1;34m(self, f, align_keys, ignore_failures, **kwargs)\u001b[0m\n\u001b[0;32m    350\u001b[0m         applied \u001b[39m=\u001b[39m b\u001b[39m.\u001b[39mapply(f, \u001b[39m*\u001b[39m\u001b[39m*\u001b[39mkwargs)\n\u001b[0;32m    351\u001b[0m     \u001b[39melse\u001b[39;00m:\n\u001b[1;32m--> 352\u001b[0m         applied \u001b[39m=\u001b[39m \u001b[39mgetattr\u001b[39;49m(b, f)(\u001b[39m*\u001b[39;49m\u001b[39m*\u001b[39;49mkwargs)\n\u001b[0;32m    353\u001b[0m \u001b[39mexcept\u001b[39;00m (\u001b[39mTypeError\u001b[39;00m, \u001b[39mNotImplementedError\u001b[39;00m):\n\u001b[0;32m    354\u001b[0m     \u001b[39mif\u001b[39;00m \u001b[39mnot\u001b[39;00m ignore_failures:\n",
      "File \u001b[1;32mc:\\Users\\guill\\anaconda3\\envs\\soyhenry\\lib\\site-packages\\pandas\\core\\internals\\blocks.py:526\u001b[0m, in \u001b[0;36mBlock.astype\u001b[1;34m(self, dtype, copy, errors)\u001b[0m\n\u001b[0;32m    508\u001b[0m \u001b[39m\"\"\"\u001b[39;00m\n\u001b[0;32m    509\u001b[0m \u001b[39mCoerce to the new dtype.\u001b[39;00m\n\u001b[0;32m    510\u001b[0m \n\u001b[1;32m   (...)\u001b[0m\n\u001b[0;32m    522\u001b[0m \u001b[39mBlock\u001b[39;00m\n\u001b[0;32m    523\u001b[0m \u001b[39m\"\"\"\u001b[39;00m\n\u001b[0;32m    524\u001b[0m values \u001b[39m=\u001b[39m \u001b[39mself\u001b[39m\u001b[39m.\u001b[39mvalues\n\u001b[1;32m--> 526\u001b[0m new_values \u001b[39m=\u001b[39m astype_array_safe(values, dtype, copy\u001b[39m=\u001b[39;49mcopy, errors\u001b[39m=\u001b[39;49merrors)\n\u001b[0;32m    528\u001b[0m new_values \u001b[39m=\u001b[39m maybe_coerce_values(new_values)\n\u001b[0;32m    529\u001b[0m newb \u001b[39m=\u001b[39m \u001b[39mself\u001b[39m\u001b[39m.\u001b[39mmake_block(new_values)\n",
      "File \u001b[1;32mc:\\Users\\guill\\anaconda3\\envs\\soyhenry\\lib\\site-packages\\pandas\\core\\dtypes\\astype.py:299\u001b[0m, in \u001b[0;36mastype_array_safe\u001b[1;34m(values, dtype, copy, errors)\u001b[0m\n\u001b[0;32m    296\u001b[0m     \u001b[39mreturn\u001b[39;00m values\u001b[39m.\u001b[39mcopy()\n\u001b[0;32m    298\u001b[0m \u001b[39mtry\u001b[39;00m:\n\u001b[1;32m--> 299\u001b[0m     new_values \u001b[39m=\u001b[39m astype_array(values, dtype, copy\u001b[39m=\u001b[39;49mcopy)\n\u001b[0;32m    300\u001b[0m \u001b[39mexcept\u001b[39;00m (\u001b[39mValueError\u001b[39;00m, \u001b[39mTypeError\u001b[39;00m):\n\u001b[0;32m    301\u001b[0m     \u001b[39m# e.g. astype_nansafe can fail on object-dtype of strings\u001b[39;00m\n\u001b[0;32m    302\u001b[0m     \u001b[39m#  trying to convert to float\u001b[39;00m\n\u001b[0;32m    303\u001b[0m     \u001b[39mif\u001b[39;00m errors \u001b[39m==\u001b[39m \u001b[39m\"\u001b[39m\u001b[39mignore\u001b[39m\u001b[39m\"\u001b[39m:\n",
      "File \u001b[1;32mc:\\Users\\guill\\anaconda3\\envs\\soyhenry\\lib\\site-packages\\pandas\\core\\dtypes\\astype.py:230\u001b[0m, in \u001b[0;36mastype_array\u001b[1;34m(values, dtype, copy)\u001b[0m\n\u001b[0;32m    227\u001b[0m     values \u001b[39m=\u001b[39m values\u001b[39m.\u001b[39mastype(dtype, copy\u001b[39m=\u001b[39mcopy)\n\u001b[0;32m    229\u001b[0m \u001b[39melse\u001b[39;00m:\n\u001b[1;32m--> 230\u001b[0m     values \u001b[39m=\u001b[39m astype_nansafe(values, dtype, copy\u001b[39m=\u001b[39;49mcopy)\n\u001b[0;32m    232\u001b[0m \u001b[39m# in pandas we don't store numpy str dtypes, so convert to object\u001b[39;00m\n\u001b[0;32m    233\u001b[0m \u001b[39mif\u001b[39;00m \u001b[39misinstance\u001b[39m(dtype, np\u001b[39m.\u001b[39mdtype) \u001b[39mand\u001b[39;00m \u001b[39missubclass\u001b[39m(values\u001b[39m.\u001b[39mdtype\u001b[39m.\u001b[39mtype, \u001b[39mstr\u001b[39m):\n",
      "File \u001b[1;32mc:\\Users\\guill\\anaconda3\\envs\\soyhenry\\lib\\site-packages\\pandas\\core\\dtypes\\astype.py:140\u001b[0m, in \u001b[0;36mastype_nansafe\u001b[1;34m(arr, dtype, copy, skipna)\u001b[0m\n\u001b[0;32m    137\u001b[0m     \u001b[39mraise\u001b[39;00m \u001b[39mTypeError\u001b[39;00m(\u001b[39mf\u001b[39m\u001b[39m\"\u001b[39m\u001b[39mcannot astype a timedelta from [\u001b[39m\u001b[39m{\u001b[39;00marr\u001b[39m.\u001b[39mdtype\u001b[39m}\u001b[39;00m\u001b[39m] to [\u001b[39m\u001b[39m{\u001b[39;00mdtype\u001b[39m}\u001b[39;00m\u001b[39m]\u001b[39m\u001b[39m\"\u001b[39m)\n\u001b[0;32m    139\u001b[0m \u001b[39melif\u001b[39;00m np\u001b[39m.\u001b[39missubdtype(arr\u001b[39m.\u001b[39mdtype, np\u001b[39m.\u001b[39mfloating) \u001b[39mand\u001b[39;00m is_integer_dtype(dtype):\n\u001b[1;32m--> 140\u001b[0m     \u001b[39mreturn\u001b[39;00m _astype_float_to_int_nansafe(arr, dtype, copy)\n\u001b[0;32m    142\u001b[0m \u001b[39melif\u001b[39;00m is_object_dtype(arr\u001b[39m.\u001b[39mdtype):\n\u001b[0;32m    143\u001b[0m \n\u001b[0;32m    144\u001b[0m     \u001b[39m# if we have a datetime/timedelta array of objects\u001b[39;00m\n\u001b[0;32m    145\u001b[0m     \u001b[39m# then coerce to a proper dtype and recall astype_nansafe\u001b[39;00m\n\u001b[0;32m    147\u001b[0m     \u001b[39mif\u001b[39;00m is_datetime64_dtype(dtype):\n",
      "File \u001b[1;32mc:\\Users\\guill\\anaconda3\\envs\\soyhenry\\lib\\site-packages\\pandas\\core\\dtypes\\astype.py:182\u001b[0m, in \u001b[0;36m_astype_float_to_int_nansafe\u001b[1;34m(values, dtype, copy)\u001b[0m\n\u001b[0;32m    178\u001b[0m \u001b[39m\"\"\"\u001b[39;00m\n\u001b[0;32m    179\u001b[0m \u001b[39mastype with a check preventing converting NaN to an meaningless integer value.\u001b[39;00m\n\u001b[0;32m    180\u001b[0m \u001b[39m\"\"\"\u001b[39;00m\n\u001b[0;32m    181\u001b[0m \u001b[39mif\u001b[39;00m \u001b[39mnot\u001b[39;00m np\u001b[39m.\u001b[39misfinite(values)\u001b[39m.\u001b[39mall():\n\u001b[1;32m--> 182\u001b[0m     \u001b[39mraise\u001b[39;00m IntCastingNaNError(\n\u001b[0;32m    183\u001b[0m         \u001b[39m\"\u001b[39m\u001b[39mCannot convert non-finite values (NA or inf) to integer\u001b[39m\u001b[39m\"\u001b[39m\n\u001b[0;32m    184\u001b[0m     )\n\u001b[0;32m    185\u001b[0m \u001b[39mif\u001b[39;00m dtype\u001b[39m.\u001b[39mkind \u001b[39m==\u001b[39m \u001b[39m\"\u001b[39m\u001b[39mu\u001b[39m\u001b[39m\"\u001b[39m:\n\u001b[0;32m    186\u001b[0m     \u001b[39m# GH#45151\u001b[39;00m\n\u001b[0;32m    187\u001b[0m     \u001b[39mif\u001b[39;00m \u001b[39mnot\u001b[39;00m (values \u001b[39m>\u001b[39m\u001b[39m=\u001b[39m \u001b[39m0\u001b[39m)\u001b[39m.\u001b[39mall():\n",
      "\u001b[1;31mIntCastingNaNError\u001b[0m: Cannot convert non-finite values (NA or inf) to integer"
     ]
    }
   ],
   "source": [
    "df_global[['total_market_cap','total_volume']].astype(int)"
   ]
  },
  {
   "cell_type": "code",
   "execution_count": 56,
   "metadata": {},
   "outputs": [
    {
     "data": {
      "text/html": [
       "<div>\n",
       "<style scoped>\n",
       "    .dataframe tbody tr th:only-of-type {\n",
       "        vertical-align: middle;\n",
       "    }\n",
       "\n",
       "    .dataframe tbody tr th {\n",
       "        vertical-align: top;\n",
       "    }\n",
       "\n",
       "    .dataframe thead th {\n",
       "        text-align: right;\n",
       "    }\n",
       "</style>\n",
       "<table border=\"1\" class=\"dataframe\">\n",
       "  <thead>\n",
       "    <tr style=\"text-align: right;\">\n",
       "      <th></th>\n",
       "      <th>total_market_cap</th>\n",
       "      <th>total_volume</th>\n",
       "      <th>market_cap_percentage</th>\n",
       "    </tr>\n",
       "  </thead>\n",
       "  <tbody>\n",
       "    <tr>\n",
       "      <th>btc</th>\n",
       "      <td>4.180181e+07</td>\n",
       "      <td>1.598513e+06</td>\n",
       "      <td>46.565582</td>\n",
       "    </tr>\n",
       "    <tr>\n",
       "      <th>eth</th>\n",
       "      <td>6.665769e+08</td>\n",
       "      <td>2.549009e+07</td>\n",
       "      <td>18.032160</td>\n",
       "    </tr>\n",
       "    <tr>\n",
       "      <th>usdt</th>\n",
       "      <td>NaN</td>\n",
       "      <td>NaN</td>\n",
       "      <td>7.603567</td>\n",
       "    </tr>\n",
       "    <tr>\n",
       "      <th>bnb</th>\n",
       "      <td>5.086336e+09</td>\n",
       "      <td>1.945029e+08</td>\n",
       "      <td>3.020624</td>\n",
       "    </tr>\n",
       "    <tr>\n",
       "      <th>xrp</th>\n",
       "      <td>2.095904e+12</td>\n",
       "      <td>8.014796e+10</td>\n",
       "      <td>2.520860</td>\n",
       "    </tr>\n",
       "    <tr>\n",
       "      <th>...</th>\n",
       "      <td>...</td>\n",
       "      <td>...</td>\n",
       "      <td>...</td>\n",
       "    </tr>\n",
       "    <tr>\n",
       "      <th>xdr</th>\n",
       "      <td>8.181760e+11</td>\n",
       "      <td>3.128728e+10</td>\n",
       "      <td>NaN</td>\n",
       "    </tr>\n",
       "    <tr>\n",
       "      <th>xag</th>\n",
       "      <td>4.642986e+10</td>\n",
       "      <td>1.775491e+09</td>\n",
       "      <td>NaN</td>\n",
       "    </tr>\n",
       "    <tr>\n",
       "      <th>xau</th>\n",
       "      <td>5.730264e+08</td>\n",
       "      <td>2.191269e+07</td>\n",
       "      <td>NaN</td>\n",
       "    </tr>\n",
       "    <tr>\n",
       "      <th>bits</th>\n",
       "      <td>4.180181e+13</td>\n",
       "      <td>1.598513e+12</td>\n",
       "      <td>NaN</td>\n",
       "    </tr>\n",
       "    <tr>\n",
       "      <th>sats</th>\n",
       "      <td>4.180181e+15</td>\n",
       "      <td>1.598513e+14</td>\n",
       "      <td>NaN</td>\n",
       "    </tr>\n",
       "  </tbody>\n",
       "</table>\n",
       "<p>67 rows × 3 columns</p>\n",
       "</div>"
      ],
      "text/plain": [
       "      total_market_cap  total_volume  market_cap_percentage\n",
       "btc       4.180181e+07  1.598513e+06              46.565582\n",
       "eth       6.665769e+08  2.549009e+07              18.032160\n",
       "usdt               NaN           NaN               7.603567\n",
       "bnb       5.086336e+09  1.945029e+08               3.020624\n",
       "xrp       2.095904e+12  8.014796e+10               2.520860\n",
       "...                ...           ...                    ...\n",
       "xdr       8.181760e+11  3.128728e+10                    NaN\n",
       "xag       4.642986e+10  1.775491e+09                    NaN\n",
       "xau       5.730264e+08  2.191269e+07                    NaN\n",
       "bits      4.180181e+13  1.598513e+12                    NaN\n",
       "sats      4.180181e+15  1.598513e+14                    NaN\n",
       "\n",
       "[67 rows x 3 columns]"
      ]
     },
     "execution_count": 56,
     "metadata": {},
     "output_type": "execute_result"
    }
   ],
   "source": [
    "df_global"
   ]
  },
  {
   "cell_type": "code",
   "execution_count": 87,
   "metadata": {},
   "outputs": [],
   "source": [
    "df_global.to_csv('./Data/global.csv')"
   ]
  },
  {
   "cell_type": "code",
   "execution_count": 129,
   "metadata": {},
   "outputs": [],
   "source": [
    "with open('./Data/response_1692752649857.json', 'r') as archivo:\n",
    "    data = json.load(archivo)"
   ]
  },
  {
   "cell_type": "code",
   "execution_count": 143,
   "metadata": {},
   "outputs": [
    {
     "data": {
      "text/plain": [
       "{'btc': 46.5640960218742,\n",
       " 'eth': 18.03542166409418,\n",
       " 'usdt': 7.59789395528569,\n",
       " 'bnb': 3.02227117578155,\n",
       " 'xrp': 2.5184099716229693,\n",
       " 'usdc': 2.380593040947237,\n",
       " 'steth': 1.2496005374866797,\n",
       " 'ada': 0.8335462673340885,\n",
       " 'doge': 0.8117388962630163,\n",
       " 'sol': 0.7706037694637595}"
      ]
     },
     "execution_count": 143,
     "metadata": {},
     "output_type": "execute_result"
    }
   ],
   "source": [
    "data['data']['market_cap_percentage']"
   ]
  },
  {
   "cell_type": "code",
   "execution_count": 139,
   "metadata": {},
   "outputs": [],
   "source": [
    "total_market_cap_dict = data['data']['market_cap_percentage']\n",
    "df_total_market_cap = pd.DataFrame.from_dict(total_market_cap_dict, orient='index', columns=['market_cap_percentage'])"
   ]
  },
  {
   "cell_type": "code",
   "execution_count": 140,
   "metadata": {},
   "outputs": [
    {
     "name": "stdout",
     "output_type": "stream",
     "text": [
      "<class 'pandas.core.frame.DataFrame'>\n",
      "Index: 10 entries, btc to sol\n",
      "Data columns (total 1 columns):\n",
      " #   Column                 Non-Null Count  Dtype  \n",
      "---  ------                 --------------  -----  \n",
      " 0   market_cap_percentage  10 non-null     float64\n",
      "dtypes: float64(1)\n",
      "memory usage: 160.0+ bytes\n"
     ]
    }
   ],
   "source": [
    "df_total_market_cap.info()"
   ]
  }
 ],
 "metadata": {
  "kernelspec": {
   "display_name": "soyhenry",
   "language": "python",
   "name": "python3"
  },
  "language_info": {
   "codemirror_mode": {
    "name": "ipython",
    "version": 3
   },
   "file_extension": ".py",
   "mimetype": "text/x-python",
   "name": "python",
   "nbconvert_exporter": "python",
   "pygments_lexer": "ipython3",
   "version": "3.8.13"
  },
  "orig_nbformat": 4
 },
 "nbformat": 4,
 "nbformat_minor": 2
}
