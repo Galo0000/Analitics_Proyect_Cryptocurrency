{
 "cells": [
  {
   "cell_type": "code",
   "execution_count": 1,
   "metadata": {},
   "outputs": [],
   "source": [
    "import requests\n",
    "import pandas as pd"
   ]
  },
  {
   "cell_type": "code",
   "execution_count": 20,
   "metadata": {},
   "outputs": [
    {
     "ename": "TypeError",
     "evalue": "string indices must be integers",
     "output_type": "error",
     "traceback": [
      "\u001b[1;31m---------------------------------------------------------------------------\u001b[0m",
      "\u001b[1;31mTypeError\u001b[0m                                 Traceback (most recent call last)",
      "\u001b[1;32mh:\\Repositorios\\repositorio-henry\\Analitics_Proyect_Cryptocurrency\\Extract_data.ipynb Cell 2\u001b[0m in \u001b[0;36m<cell line: 26>\u001b[1;34m()\u001b[0m\n\u001b[0;32m     <a href='vscode-notebook-cell:/h%3A/Repositorios/repositorio-henry/Analitics_Proyect_Cryptocurrency/Extract_data.ipynb#W1sZmlsZQ%3D%3D?line=22'>23</a>\u001b[0m             \u001b[39mbreak\u001b[39;00m\n\u001b[0;32m     <a href='vscode-notebook-cell:/h%3A/Repositorios/repositorio-henry/Analitics_Proyect_Cryptocurrency/Extract_data.ipynb#W1sZmlsZQ%3D%3D?line=23'>24</a>\u001b[0m     \u001b[39mreturn\u001b[39;00m stable,volatil\n\u001b[1;32m---> <a href='vscode-notebook-cell:/h%3A/Repositorios/repositorio-henry/Analitics_Proyect_Cryptocurrency/Extract_data.ipynb#W1sZmlsZQ%3D%3D?line=25'>26</a>\u001b[0m stable, volatil \u001b[39m=\u001b[39m get_top_coins()\n\u001b[0;32m     <a href='vscode-notebook-cell:/h%3A/Repositorios/repositorio-henry/Analitics_Proyect_Cryptocurrency/Extract_data.ipynb#W1sZmlsZQ%3D%3D?line=26'>27</a>\u001b[0m \u001b[39mprint\u001b[39m(stable)\n\u001b[0;32m     <a href='vscode-notebook-cell:/h%3A/Repositorios/repositorio-henry/Analitics_Proyect_Cryptocurrency/Extract_data.ipynb#W1sZmlsZQ%3D%3D?line=27'>28</a>\u001b[0m \u001b[39mprint\u001b[39m(volatil)\n",
      "\u001b[1;32mh:\\Repositorios\\repositorio-henry\\Analitics_Proyect_Cryptocurrency\\Extract_data.ipynb Cell 2\u001b[0m in \u001b[0;36mget_top_coins\u001b[1;34m()\u001b[0m\n\u001b[0;32m     <a href='vscode-notebook-cell:/h%3A/Repositorios/repositorio-henry/Analitics_Proyect_Cryptocurrency/Extract_data.ipynb#W1sZmlsZQ%3D%3D?line=14'>15</a>\u001b[0m data \u001b[39m=\u001b[39m response\u001b[39m.\u001b[39mjson()\n\u001b[0;32m     <a href='vscode-notebook-cell:/h%3A/Repositorios/repositorio-henry/Analitics_Proyect_Cryptocurrency/Extract_data.ipynb#W1sZmlsZQ%3D%3D?line=16'>17</a>\u001b[0m \u001b[39mfor\u001b[39;00m coin \u001b[39min\u001b[39;00m data:\n\u001b[1;32m---> <a href='vscode-notebook-cell:/h%3A/Repositorios/repositorio-henry/Analitics_Proyect_Cryptocurrency/Extract_data.ipynb#W1sZmlsZQ%3D%3D?line=17'>18</a>\u001b[0m     \u001b[39mif\u001b[39;00m coin[\u001b[39m'\u001b[39;49m\u001b[39mcurrent_price\u001b[39;49m\u001b[39m'\u001b[39;49m] \u001b[39m>\u001b[39m \u001b[39m1\u001b[39m \u001b[39mor\u001b[39;00m \u001b[39m0.99\u001b[39m \u001b[39m>\u001b[39m coin[\u001b[39m'\u001b[39m\u001b[39mcurrent_price\u001b[39m\u001b[39m'\u001b[39m] \u001b[39mand\u001b[39;00m \u001b[39mlen\u001b[39m(volatil) \u001b[39m<\u001b[39m \u001b[39m10\u001b[39m:\n\u001b[0;32m     <a href='vscode-notebook-cell:/h%3A/Repositorios/repositorio-henry/Analitics_Proyect_Cryptocurrency/Extract_data.ipynb#W1sZmlsZQ%3D%3D?line=18'>19</a>\u001b[0m         volatil\u001b[39m.\u001b[39mappend(coin[\u001b[39m'\u001b[39m\u001b[39mid\u001b[39m\u001b[39m'\u001b[39m])\n\u001b[0;32m     <a href='vscode-notebook-cell:/h%3A/Repositorios/repositorio-henry/Analitics_Proyect_Cryptocurrency/Extract_data.ipynb#W1sZmlsZQ%3D%3D?line=19'>20</a>\u001b[0m     \u001b[39melif\u001b[39;00m \u001b[39m1.1\u001b[39m \u001b[39m>\u001b[39m coin[\u001b[39m'\u001b[39m\u001b[39mcurrent_price\u001b[39m\u001b[39m'\u001b[39m] \u001b[39m>\u001b[39m \u001b[39m0.97\u001b[39m \u001b[39mand\u001b[39;00m \u001b[39mlen\u001b[39m(stable) \u001b[39m<\u001b[39m \u001b[39m10\u001b[39m:\n",
      "\u001b[1;31mTypeError\u001b[0m: string indices must be integers"
     ]
    }
   ],
   "source": [
    "# Esta funcion imprime las 10 monedas volatiles con mas capitalizacion y luego las 10 monedas estables.\n",
    "def get_top_coins():\n",
    "    stable = []\n",
    "    volatil = []\n",
    "\n",
    "    url = \"https://api.coingecko.com/api/v3/coins/markets\"\n",
    "    params = {\n",
    "        \"vs_currency\": \"usd\",\n",
    "        \"order\": \"market_cap_desc\",\n",
    "        \"per_page\": 100,\n",
    "        \"page\": 1\n",
    "    }\n",
    "\n",
    "    response = requests.get(url, params=params)\n",
    "    data = response.json()\n",
    "\n",
    "    for coin in data:\n",
    "        if coin['current_price'] > 1 or 0.99 > coin['current_price'] and len(volatil) < 10:\n",
    "            volatil.append(coin['id'])\n",
    "        elif 1.1 > coin['current_price'] > 0.97 and len(stable) < 10:\n",
    "            stable.append(coin['id'])\n",
    "        else:\n",
    "            break\n",
    "        \n",
    "    return stable,volatil\n",
    "\n",
    "stable, volatil = get_top_coins()\n",
    "print(stable)\n",
    "print(volatil)"
   ]
  },
  {
   "cell_type": "code",
   "execution_count": 6,
   "metadata": {},
   "outputs": [],
   "source": [
    "# Utiliza una lista de nombres de criptomonedas y a traves de la api de coingecko extrae la informacion de cada una de ellas para luego de un ETL guardar \n",
    "# la informacion en un archivo csv.\n",
    "def get_historical_data(coinnamelist):\n",
    "    for coin in coinnamelist:\n",
    "        url = f\"https://api.coingecko.com/api/v3/coins/{coin}/market_chart\"\n",
    "        params = {\n",
    "            'vs_currency': 'usd',\n",
    "            'days': '2160',\n",
    "            'interval': 'daily'\n",
    "        }\n",
    "    \n",
    "        response = requests.get(url, params=params)\n",
    "    \n",
    "        if response.status_code == 200:\n",
    "            data = response.json()\n",
    "            df = pd.DataFrame(data)\n",
    "            df['market_caps'] = df['market_caps'].apply(lambda x: int(x[1]))\n",
    "            df['total_volumes'] = df['total_volumes'].apply(lambda x: int(x[1]))\n",
    "            df['Date'] = df['prices'].apply(lambda x: pd.to_datetime(x[0], unit='ms'))\n",
    "            df['prices'] = df['prices'].apply(lambda x: int(x[1]))\n",
    "            df.rename(columns={'prices': 'Prices_usd','total_volumes':'Volume','market_caps':'Market_caps'}, inplace=True)\n",
    "            df.to_csv(f'./Data/{coin}.csv')\n",
    "        else:\n",
    "            print(f\"Error al obtener los datos de {coin}:\", response.status_code)\n"
   ]
  },
  {
   "cell_type": "code",
   "execution_count": 7,
   "metadata": {},
   "outputs": [],
   "source": [
    "get_historical_data(volatil)"
   ]
  },
  {
   "cell_type": "code",
   "execution_count": null,
   "metadata": {},
   "outputs": [],
   "source": [
    "get_historical_data(volatil)"
   ]
  },
  {
   "cell_type": "code",
   "execution_count": 15,
   "metadata": {},
   "outputs": [
    {
     "data": {
      "text/html": [
       "<div>\n",
       "<style scoped>\n",
       "    .dataframe tbody tr th:only-of-type {\n",
       "        vertical-align: middle;\n",
       "    }\n",
       "\n",
       "    .dataframe tbody tr th {\n",
       "        vertical-align: top;\n",
       "    }\n",
       "\n",
       "    .dataframe thead th {\n",
       "        text-align: right;\n",
       "    }\n",
       "</style>\n",
       "<table border=\"1\" class=\"dataframe\">\n",
       "  <thead>\n",
       "    <tr style=\"text-align: right;\">\n",
       "      <th></th>\n",
       "      <th>prices</th>\n",
       "      <th>market_caps</th>\n",
       "      <th>total_volumes</th>\n",
       "      <th>Date</th>\n",
       "    </tr>\n",
       "  </thead>\n",
       "  <tbody>\n",
       "    <tr>\n",
       "      <th>0</th>\n",
       "      <td>3898</td>\n",
       "      <td>64629619385</td>\n",
       "      <td>942656241</td>\n",
       "      <td>2017-09-19</td>\n",
       "    </tr>\n",
       "    <tr>\n",
       "      <th>1</th>\n",
       "      <td>3858</td>\n",
       "      <td>63957210363</td>\n",
       "      <td>676074373</td>\n",
       "      <td>2017-09-20</td>\n",
       "    </tr>\n",
       "    <tr>\n",
       "      <th>2</th>\n",
       "      <td>3628</td>\n",
       "      <td>60152757874</td>\n",
       "      <td>913652257</td>\n",
       "      <td>2017-09-21</td>\n",
       "    </tr>\n",
       "    <tr>\n",
       "      <th>3</th>\n",
       "      <td>3622</td>\n",
       "      <td>60061814860</td>\n",
       "      <td>767837732</td>\n",
       "      <td>2017-09-22</td>\n",
       "    </tr>\n",
       "    <tr>\n",
       "      <th>4</th>\n",
       "      <td>3763</td>\n",
       "      <td>62411285738</td>\n",
       "      <td>578068211</td>\n",
       "      <td>2017-09-23</td>\n",
       "    </tr>\n",
       "  </tbody>\n",
       "</table>\n",
       "</div>"
      ],
      "text/plain": [
       "   prices  market_caps  total_volumes       Date\n",
       "0    3898  64629619385      942656241 2017-09-19\n",
       "1    3858  63957210363      676074373 2017-09-20\n",
       "2    3628  60152757874      913652257 2017-09-21\n",
       "3    3622  60061814860      767837732 2017-09-22\n",
       "4    3763  62411285738      578068211 2017-09-23"
      ]
     },
     "execution_count": 15,
     "metadata": {},
     "output_type": "execute_result"
    }
   ],
   "source": [
    "df.head()"
   ]
  },
  {
   "cell_type": "code",
   "execution_count": 17,
   "metadata": {},
   "outputs": [
    {
     "name": "stdout",
     "output_type": "stream",
     "text": [
      "<class 'pandas.core.frame.DataFrame'>\n",
      "RangeIndex: 2161 entries, 0 to 2160\n",
      "Data columns (total 4 columns):\n",
      " #   Column       Non-Null Count  Dtype         \n",
      "---  ------       --------------  -----         \n",
      " 0   Prices_usd   2161 non-null   int64         \n",
      " 1   Market_caps  2161 non-null   int64         \n",
      " 2   Volume       2161 non-null   int64         \n",
      " 3   Date         2161 non-null   datetime64[ns]\n",
      "dtypes: datetime64[ns](1), int64(3)\n",
      "memory usage: 67.7 KB\n"
     ]
    }
   ],
   "source": [
    "df.info()"
   ]
  }
 ],
 "metadata": {
  "kernelspec": {
   "display_name": "soyhenry",
   "language": "python",
   "name": "python3"
  },
  "language_info": {
   "codemirror_mode": {
    "name": "ipython",
    "version": 3
   },
   "file_extension": ".py",
   "mimetype": "text/x-python",
   "name": "python",
   "nbconvert_exporter": "python",
   "pygments_lexer": "ipython3",
   "version": "3.8.13"
  },
  "orig_nbformat": 4
 },
 "nbformat": 4,
 "nbformat_minor": 2
}
