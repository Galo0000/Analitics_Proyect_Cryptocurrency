{
 "cells": [
  {
   "cell_type": "code",
   "execution_count": 31,
   "metadata": {},
   "outputs": [],
   "source": [
    "import requests\n",
    "import pandas as pd"
   ]
  },
  {
   "cell_type": "code",
   "execution_count": 37,
   "metadata": {},
   "outputs": [
    {
     "ename": "TypeError",
     "evalue": "string indices must be integers",
     "output_type": "error",
     "traceback": [
      "\u001b[1;31m---------------------------------------------------------------------------\u001b[0m",
      "\u001b[1;31mTypeError\u001b[0m                                 Traceback (most recent call last)",
      "\u001b[1;32mc:\\Repositorios\\repositorio-henry\\Analitics_Proyect_Cryptocurrency\\Extract_data.ipynb Cell 2\u001b[0m in \u001b[0;36m<cell line: 17>\u001b[1;34m()\u001b[0m\n\u001b[0;32m     <a href='vscode-notebook-cell:/c%3A/Repositorios/repositorio-henry/Analitics_Proyect_Cryptocurrency/Extract_data.ipynb#W1sZmlsZQ%3D%3D?line=14'>15</a>\u001b[0m top_coins \u001b[39m=\u001b[39m get_top_coins()\n\u001b[0;32m     <a href='vscode-notebook-cell:/c%3A/Repositorios/repositorio-henry/Analitics_Proyect_Cryptocurrency/Extract_data.ipynb#W1sZmlsZQ%3D%3D?line=16'>17</a>\u001b[0m \u001b[39mfor\u001b[39;00m index, coin \u001b[39min\u001b[39;00m \u001b[39menumerate\u001b[39m(top_coins, start\u001b[39m=\u001b[39m\u001b[39m1\u001b[39m):\n\u001b[1;32m---> <a href='vscode-notebook-cell:/c%3A/Repositorios/repositorio-henry/Analitics_Proyect_Cryptocurrency/Extract_data.ipynb#W1sZmlsZQ%3D%3D?line=17'>18</a>\u001b[0m     \u001b[39mif\u001b[39;00m coin[\u001b[39m'\u001b[39;49m\u001b[39mcurrent_price\u001b[39;49m\u001b[39m'\u001b[39;49m] \u001b[39m<\u001b[39m \u001b[39m1\u001b[39m:\n\u001b[0;32m     <a href='vscode-notebook-cell:/c%3A/Repositorios/repositorio-henry/Analitics_Proyect_Cryptocurrency/Extract_data.ipynb#W1sZmlsZQ%3D%3D?line=18'>19</a>\u001b[0m         \u001b[39mprint\u001b[39m(\u001b[39mf\u001b[39m\u001b[39m\"\u001b[39m\u001b[39m{\u001b[39;00mindex\u001b[39m}\u001b[39;00m\u001b[39m. \u001b[39m\u001b[39m{\u001b[39;00mcoin[\u001b[39m'\u001b[39m\u001b[39mname\u001b[39m\u001b[39m'\u001b[39m]\u001b[39m}\u001b[39;00m\u001b[39m (\u001b[39m\u001b[39m{\u001b[39;00mcoin[\u001b[39m'\u001b[39m\u001b[39msymbol\u001b[39m\u001b[39m'\u001b[39m]\u001b[39m}\u001b[39;00m\u001b[39m): $\u001b[39m\u001b[39m{\u001b[39;00mcoin[\u001b[39m'\u001b[39m\u001b[39mcurrent_price\u001b[39m\u001b[39m'\u001b[39m]\u001b[39m}\u001b[39;00m\u001b[39m\"\u001b[39m)\n",
      "\u001b[1;31mTypeError\u001b[0m: string indices must be integers"
     ]
    }
   ],
   "source": [
    "def get_top_coins():\n",
    "    url = \"https://api.coingecko.com/api/v3/coins/markets\"\n",
    "    params = {\n",
    "        \"vs_currency\": \"usd\",\n",
    "        \"order\": \"market_cap_desc\",\n",
    "        \"per_page\": 10,\n",
    "        \"page\": 1\n",
    "    }\n",
    "\n",
    "    response = requests.get(url, params=params)\n",
    "    data = response.json()\n",
    "\n",
    "    return data\n",
    "\n",
    "top_coins = get_top_coins()\n",
    "\n",
    "for index, coin in enumerate(top_coins, start=1):\n",
    "    if coin['current_price'] < 1:\n",
    "        print(f\"{index}. {coin['name']} ({coin['symbol']}): ${coin['current_price']}\")"
   ]
  },
  {
   "cell_type": "code",
   "execution_count": 33,
   "metadata": {},
   "outputs": [],
   "source": [
    "def get_historical_data():\n",
    "    url = f\"https://api.coingecko.com/api/v3/coins/bitcoin/market_chart\"\n",
    "\n",
    "    params = {\n",
    "        'vs_currency': 'usd',\n",
    "        'days': '2160',\n",
    "        'interval': 'daily'\n",
    "    }\n",
    "    \n",
    "    response = requests.get(url, params=params)\n",
    "    \n",
    "    if response.status_code == 200:\n",
    "        data = response.json()\n",
    "        return data\n",
    "    else:\n",
    "        print(\"Error al obtener los datos:\", response.status_code)\n",
    "        return None\n"
   ]
  },
  {
   "cell_type": "code",
   "execution_count": 34,
   "metadata": {},
   "outputs": [
    {
     "data": {
      "text/html": [
       "<div>\n",
       "<style scoped>\n",
       "    .dataframe tbody tr th:only-of-type {\n",
       "        vertical-align: middle;\n",
       "    }\n",
       "\n",
       "    .dataframe tbody tr th {\n",
       "        vertical-align: top;\n",
       "    }\n",
       "\n",
       "    .dataframe thead th {\n",
       "        text-align: right;\n",
       "    }\n",
       "</style>\n",
       "<table border=\"1\" class=\"dataframe\">\n",
       "  <thead>\n",
       "    <tr style=\"text-align: right;\">\n",
       "      <th></th>\n",
       "      <th>prices</th>\n",
       "      <th>market_caps</th>\n",
       "      <th>total_volumes</th>\n",
       "    </tr>\n",
       "  </thead>\n",
       "  <tbody>\n",
       "    <tr>\n",
       "      <th>0</th>\n",
       "      <td>[1505779200000, 3898.93473248234]</td>\n",
       "      <td>[1505779200000, 64629619385.94208]</td>\n",
       "      <td>[1505779200000, 942656241.4373351]</td>\n",
       "    </tr>\n",
       "    <tr>\n",
       "      <th>1</th>\n",
       "      <td>[1505865600000, 3858.02095060051]</td>\n",
       "      <td>[1505865600000, 63957210363.29384]</td>\n",
       "      <td>[1505865600000, 676074373.1781092]</td>\n",
       "    </tr>\n",
       "    <tr>\n",
       "      <th>2</th>\n",
       "      <td>[1505952000000, 3628.05858753461]</td>\n",
       "      <td>[1505952000000, 60152757874.00039]</td>\n",
       "      <td>[1505952000000, 913652257.307351]</td>\n",
       "    </tr>\n",
       "    <tr>\n",
       "      <th>3</th>\n",
       "      <td>[1506038400000, 3622.1830393146]</td>\n",
       "      <td>[1506038400000, 60061814860.04741]</td>\n",
       "      <td>[1506038400000, 767837732.7568976]</td>\n",
       "    </tr>\n",
       "    <tr>\n",
       "      <th>4</th>\n",
       "      <td>[1506124800000, 3763.41140627887]</td>\n",
       "      <td>[1506124800000, 62411285738.3069]</td>\n",
       "      <td>[1506124800000, 578068211.7796992]</td>\n",
       "    </tr>\n",
       "  </tbody>\n",
       "</table>\n",
       "</div>"
      ],
      "text/plain": [
       "                              prices                         market_caps  \\\n",
       "0  [1505779200000, 3898.93473248234]  [1505779200000, 64629619385.94208]   \n",
       "1  [1505865600000, 3858.02095060051]  [1505865600000, 63957210363.29384]   \n",
       "2  [1505952000000, 3628.05858753461]  [1505952000000, 60152757874.00039]   \n",
       "3   [1506038400000, 3622.1830393146]  [1506038400000, 60061814860.04741]   \n",
       "4  [1506124800000, 3763.41140627887]   [1506124800000, 62411285738.3069]   \n",
       "\n",
       "                        total_volumes  \n",
       "0  [1505779200000, 942656241.4373351]  \n",
       "1  [1505865600000, 676074373.1781092]  \n",
       "2   [1505952000000, 913652257.307351]  \n",
       "3  [1506038400000, 767837732.7568976]  \n",
       "4  [1506124800000, 578068211.7796992]  "
      ]
     },
     "execution_count": 34,
     "metadata": {},
     "output_type": "execute_result"
    }
   ],
   "source": [
    "historical_data = get_historical_data()\n",
    "\n",
    "df = pd.DataFrame(historical_data)\n",
    "df.head()"
   ]
  },
  {
   "cell_type": "code",
   "execution_count": 14,
   "metadata": {},
   "outputs": [],
   "source": [
    "df['market_caps'] = df['market_caps'].apply(lambda x: int(x[1]))\n",
    "df['total_volumes'] = df['total_volumes'].apply(lambda x: int(x[1]))\n",
    "df['Date'] = df['prices'].apply(lambda x: pd.to_datetime(x[0], unit='ms'))\n",
    "df['prices'] = df['prices'].apply(lambda x: int(x[1]))"
   ]
  },
  {
   "cell_type": "code",
   "execution_count": 15,
   "metadata": {},
   "outputs": [
    {
     "data": {
      "text/html": [
       "<div>\n",
       "<style scoped>\n",
       "    .dataframe tbody tr th:only-of-type {\n",
       "        vertical-align: middle;\n",
       "    }\n",
       "\n",
       "    .dataframe tbody tr th {\n",
       "        vertical-align: top;\n",
       "    }\n",
       "\n",
       "    .dataframe thead th {\n",
       "        text-align: right;\n",
       "    }\n",
       "</style>\n",
       "<table border=\"1\" class=\"dataframe\">\n",
       "  <thead>\n",
       "    <tr style=\"text-align: right;\">\n",
       "      <th></th>\n",
       "      <th>prices</th>\n",
       "      <th>market_caps</th>\n",
       "      <th>total_volumes</th>\n",
       "      <th>Date</th>\n",
       "    </tr>\n",
       "  </thead>\n",
       "  <tbody>\n",
       "    <tr>\n",
       "      <th>0</th>\n",
       "      <td>3898</td>\n",
       "      <td>64629619385</td>\n",
       "      <td>942656241</td>\n",
       "      <td>2017-09-19</td>\n",
       "    </tr>\n",
       "    <tr>\n",
       "      <th>1</th>\n",
       "      <td>3858</td>\n",
       "      <td>63957210363</td>\n",
       "      <td>676074373</td>\n",
       "      <td>2017-09-20</td>\n",
       "    </tr>\n",
       "    <tr>\n",
       "      <th>2</th>\n",
       "      <td>3628</td>\n",
       "      <td>60152757874</td>\n",
       "      <td>913652257</td>\n",
       "      <td>2017-09-21</td>\n",
       "    </tr>\n",
       "    <tr>\n",
       "      <th>3</th>\n",
       "      <td>3622</td>\n",
       "      <td>60061814860</td>\n",
       "      <td>767837732</td>\n",
       "      <td>2017-09-22</td>\n",
       "    </tr>\n",
       "    <tr>\n",
       "      <th>4</th>\n",
       "      <td>3763</td>\n",
       "      <td>62411285738</td>\n",
       "      <td>578068211</td>\n",
       "      <td>2017-09-23</td>\n",
       "    </tr>\n",
       "  </tbody>\n",
       "</table>\n",
       "</div>"
      ],
      "text/plain": [
       "   prices  market_caps  total_volumes       Date\n",
       "0    3898  64629619385      942656241 2017-09-19\n",
       "1    3858  63957210363      676074373 2017-09-20\n",
       "2    3628  60152757874      913652257 2017-09-21\n",
       "3    3622  60061814860      767837732 2017-09-22\n",
       "4    3763  62411285738      578068211 2017-09-23"
      ]
     },
     "execution_count": 15,
     "metadata": {},
     "output_type": "execute_result"
    }
   ],
   "source": [
    "df.head()"
   ]
  },
  {
   "cell_type": "code",
   "execution_count": 16,
   "metadata": {},
   "outputs": [],
   "source": [
    "df.rename(columns={'prices': 'Prices_usd','total_volumes':'Volume','market_caps':'Market_caps'}, inplace=True)"
   ]
  },
  {
   "cell_type": "code",
   "execution_count": 17,
   "metadata": {},
   "outputs": [
    {
     "name": "stdout",
     "output_type": "stream",
     "text": [
      "<class 'pandas.core.frame.DataFrame'>\n",
      "RangeIndex: 2161 entries, 0 to 2160\n",
      "Data columns (total 4 columns):\n",
      " #   Column       Non-Null Count  Dtype         \n",
      "---  ------       --------------  -----         \n",
      " 0   Prices_usd   2161 non-null   int64         \n",
      " 1   Market_caps  2161 non-null   int64         \n",
      " 2   Volume       2161 non-null   int64         \n",
      " 3   Date         2161 non-null   datetime64[ns]\n",
      "dtypes: datetime64[ns](1), int64(3)\n",
      "memory usage: 67.7 KB\n"
     ]
    }
   ],
   "source": [
    "df.info()"
   ]
  },
  {
   "cell_type": "code",
   "execution_count": 13,
   "metadata": {},
   "outputs": [],
   "source": [
    "df.to_csv('./Data/BTCUSD.csv')"
   ]
  }
 ],
 "metadata": {
  "kernelspec": {
   "display_name": "soyhenry",
   "language": "python",
   "name": "python3"
  },
  "language_info": {
   "codemirror_mode": {
    "name": "ipython",
    "version": 3
   },
   "file_extension": ".py",
   "mimetype": "text/x-python",
   "name": "python",
   "nbconvert_exporter": "python",
   "pygments_lexer": "ipython3",
   "version": "3.8.13"
  },
  "orig_nbformat": 4
 },
 "nbformat": 4,
 "nbformat_minor": 2
}
